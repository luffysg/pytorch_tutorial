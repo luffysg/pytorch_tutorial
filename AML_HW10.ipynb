{
  "nbformat": 4,
  "nbformat_minor": 0,
  "metadata": {
    "colab": {
      "name": "AML_HW10.ipynb",
      "version": "0.3.2",
      "provenance": [],
      "collapsed_sections": [],
      "include_colab_link": true
    },
    "language_info": {
      "codemirror_mode": {
        "name": "ipython",
        "version": 3
      },
      "file_extension": ".py",
      "mimetype": "text/x-python",
      "name": "python",
      "nbconvert_exporter": "python",
      "pygments_lexer": "ipython3",
      "version": "3.6.7"
    },
    "kernelspec": {
      "display_name": "Python 3",
      "language": "python",
      "name": "python3"
    },
    "accelerator": "GPU"
  },
  "cells": [
    {
      "cell_type": "markdown",
      "metadata": {
        "id": "view-in-github",
        "colab_type": "text"
      },
      "source": [
        "<a href=\"https://colab.research.google.com/github/luffysg/pytorch_tutorial/blob/master/AML_HW10.ipynb\" target=\"_parent\"><img src=\"https://colab.research.google.com/assets/colab-badge.svg\" alt=\"Open In Colab\"/></a>"
      ]
    },
    {
      "metadata": {
        "colab_type": "text",
        "id": "vUTgGUi4JEft"
      },
      "cell_type": "markdown",
      "source": [
        "# Homework 10 - CIFAR10 Image Classification with PyTorch"
      ]
    },
    {
      "metadata": {
        "colab_type": "text",
        "id": "T5Kx8gJBJEW_"
      },
      "cell_type": "markdown",
      "source": [
        "## About"
      ]
    },
    {
      "metadata": {
        "colab_type": "text",
        "id": "aRAalfd1GITX"
      },
      "cell_type": "markdown",
      "source": [
        "The goal of the homework is to train a convolutional neural network on the standard CIFAR10 image classfication dataset.\n",
        "\n",
        "When solving machine learning tasks using neural networks, one typically starts with a simple network architecture and then improves the network by adding new layers, retraining, adjusting parameters, retraining, etc.  We attempt to illustrate this process below with several architecture improvements.\n"
      ]
    },
    {
      "metadata": {
        "colab_type": "text",
        "id": "OCl5gakxJes-"
      },
      "cell_type": "markdown",
      "source": [
        "## Dev Environment\n",
        "### Working on Google Colab\n",
        "You may choose to work locally or on Google Colaboratory. You have access to free compute through this service.   Colab is recommended since it will be setup correctly and will have access to GPU resources.\n",
        "1. Visit https://colab.research.google.com/drive \n",
        "2. Navigate to the **`Upload`** tab, and upload your `HW10.ipynb`\n",
        "3. Now on the top right corner, under the `Comment` and `Share` options, you should see a `Connect` option. Once you are connected, you will have access to a VM with 12GB RAM, 50 GB disk space and a single GPU. The dropdown menu will allow you to connect to a local runtime as well.\n",
        "\n",
        "**Notes:** \n",
        "* **If you do not have a working setup for Python 3, this is your best bet. It will also save you from heavy installations like `tensorflow` if you don't want to deal with those.**\n",
        "* ***There is a downside*. You can only use this instance for a single 12-hour stretch, after which your data will be deleted, and you would have redownload all your datasets, any libraries not already on the VM, and regenerate your logs**.\n",
        "\n",
        "\n",
        "### Installing PyTorch and Dependencies\n",
        "\n",
        "The instructions for installing and setting up PyTorch can be found at https://pytorch.org/get-started/locally/. Make sure you follow the instructions for your machine. For any of the remaining libraries used in this assignment:\n",
        "* We have provided a `hw8_requirements.txt` file on the homework web page. \n",
        "* Download this file, and in the same directory you can run `pip3 install -r hw8_requirements.txt`\n",
        "​\n",
        "Check that PyTorch installed correctly by running the following:"
      ]
    },
    {
      "metadata": {
        "colab_type": "code",
        "id": "IaJ6BLrAJeCU",
        "outputId": "b399b9bd-fea4-426f-a423-19ecefc71ffa",
        "colab": {
          "base_uri": "https://localhost:8080/",
          "height": 98
        }
      },
      "cell_type": "code",
      "source": [
        "import torch\n",
        "torch.rand(5, 3)"
      ],
      "execution_count": 0,
      "outputs": [
        {
          "output_type": "execute_result",
          "data": {
            "text/plain": [
              "tensor([[0.5462, 0.9175, 0.2252],\n",
              "        [0.6309, 0.7374, 0.7548],\n",
              "        [0.7605, 0.3429, 0.9841],\n",
              "        [0.6247, 0.9784, 0.8421],\n",
              "        [0.3780, 0.7098, 0.1481]])"
            ]
          },
          "metadata": {
            "tags": []
          },
          "execution_count": 1
        }
      ]
    },
    {
      "metadata": {
        "colab_type": "text",
        "id": "nEmmCk1IJiGn"
      },
      "cell_type": "markdown",
      "source": [
        "## Part 0 Imports and Basic Setup  (5 Points)"
      ]
    },
    {
      "metadata": {
        "colab_type": "text",
        "id": "Y3mTddKuXPBU"
      },
      "cell_type": "markdown",
      "source": [
        "First, import the required libraries as follows. The libraries we will use will be the same as those in HW8. "
      ]
    },
    {
      "metadata": {
        "colab_type": "code",
        "id": "UwtDsq3VbrNY",
        "colab": {}
      },
      "cell_type": "code",
      "source": [
        "import numpy as np\n",
        "import torch\n",
        "from torch import nn\n",
        "from torch import optim\n",
        "\n",
        "import matplotlib.pyplot as plt"
      ],
      "execution_count": 0,
      "outputs": []
    },
    {
      "metadata": {
        "colab_type": "text",
        "id": "QWKp_UGlWTyR"
      },
      "cell_type": "markdown",
      "source": [
        "**GPU Support**\n",
        "\n",
        "Training of large network can take a long time. PyTorch supports GPU with just a small amount of effort.\n",
        "\n",
        "When creating our networks, we will call \n",
        "`net.to(device)` to tell the network to train on the GPU, if one is available.  Note, if the network utilizes the GPU, it is important that any tensors we use with it (such as the data) also reside on the CPU.  Thus, a call like `images = images.to(device)` is necessary with any data we want to use with the GPU.\n",
        "\n",
        "Note: If you can't get access to a GPU, don't worry to much.  Since we use very small networks, the difference between CPU and GPU isn't large and in some cases GPU will actually be slower."
      ]
    },
    {
      "metadata": {
        "colab_type": "code",
        "id": "gbGGmnIXYca9",
        "outputId": "770254ca-b6cb-446c-c2b6-8357deefdfaf",
        "colab": {
          "base_uri": "https://localhost:8080/",
          "height": 33
        }
      },
      "cell_type": "code",
      "source": [
        "import torch.cuda as cuda\n",
        "\n",
        "# Use a GPU, i.e. cuda:0 device if it available.\n",
        "device = torch.device(\"cuda:0\" if cuda.is_available() else \"cpu\")\n",
        "print(device)"
      ],
      "execution_count": 0,
      "outputs": [
        {
          "output_type": "stream",
          "text": [
            "cuda:0\n"
          ],
          "name": "stdout"
        }
      ]
    },
    {
      "metadata": {
        "id": "07RjQbhF1tiK",
        "colab_type": "text"
      },
      "cell_type": "markdown",
      "source": [
        "### Training Code"
      ]
    },
    {
      "metadata": {
        "cellView": "form",
        "colab_type": "code",
        "id": "_DZm8ammPCbL",
        "colab": {}
      },
      "cell_type": "code",
      "source": [
        "import time\n",
        "\n",
        "class Flatten(nn.Module):\n",
        "  \"\"\"NN Module that flattens the incoming tensor.\"\"\"\n",
        "  def forward(self, input):\n",
        "    return input.view(input.size(0), -1)\n",
        "  \n",
        "def train(model, train_loader, test_loader, loss_func, opt, num_epochs=10):\n",
        "  all_training_loss = np.zeros((0,2))\n",
        "  all_training_acc = np.zeros((0,2))\n",
        "  all_test_loss = np.zeros((0,2))\n",
        "  all_test_acc = np.zeros((0,2))\n",
        "  \n",
        "  training_step = 0\n",
        "  training_loss, training_acc = 2.0, 0.0\n",
        "  print_every = 1000\n",
        "  \n",
        "  start = time.clock()\n",
        "  \n",
        "  for i in range(num_epochs):\n",
        "    epoch_start = time.clock() \n",
        "   \n",
        "    model.train()\n",
        "    for images, labels in train_loader:\n",
        "      images, labels = images.to(device), labels.to(device)\n",
        "      opt.zero_grad()\n",
        "\n",
        "      preds = model(images)\n",
        "      loss = loss_func(preds, labels)\n",
        "      loss.backward()\n",
        "      opt.step()\n",
        "      \n",
        "      training_loss += loss.item()\n",
        "      training_acc += (torch.argmax(preds, dim=1)==labels).float().mean()\n",
        "      \n",
        "      if training_step % print_every == 0:\n",
        "        training_loss /= print_every\n",
        "        training_acc /= print_every\n",
        "        \n",
        "        all_training_loss = np.concatenate((all_training_loss, [[training_step, training_loss]]))\n",
        "        all_training_acc = np.concatenate((all_training_acc, [[training_step, training_acc]]))\n",
        "        \n",
        "        print('  Epoch %d @ step %d: Train Loss: %3f, Train Accuracy: %3f' % (\n",
        "            i, training_step, training_loss, training_acc))\n",
        "        training_loss, training_acc = 0.0, 0.0\n",
        "        \n",
        "      training_step+=1\n",
        "\n",
        "    model.eval()\n",
        "    with torch.no_grad():\n",
        "      validation_loss, validation_acc = 0.0, 0.0\n",
        "      count = 0\n",
        "      for images, labels in test_loader:\n",
        "        images, labels = images.to(device), labels.to(device)\n",
        "        output = model(images)\n",
        "        validation_loss+=loss_func(output,labels)\n",
        "        validation_acc+=(torch.argmax(output, dim=1) == labels).float().mean()\n",
        "        count += 1\n",
        "      validation_loss/=count\n",
        "      validation_acc/=count\n",
        "      \n",
        "      all_test_loss = np.concatenate((all_test_loss, [[training_step, validation_loss]]))\n",
        "      all_test_acc = np.concatenate((all_test_acc, [[training_step, validation_acc]]))\n",
        "      \n",
        "      epoch_time = time.clock() - epoch_start\n",
        "      \n",
        "      print('Epoch %d Test Loss: %3f, Test Accuracy: %3f, time: %.1fs' % (\n",
        "          i, validation_loss, validation_acc, epoch_time))\n",
        "      \n",
        "  total_time = time.clock() - start\n",
        "  print('Final Test Loss: %3f, Test Accuracy: %3f, Total time: %.1fs' % (\n",
        "      validation_loss, validation_acc, total_time))\n",
        "\n",
        "  return {'loss': { 'train': all_training_loss, 'test': all_test_loss },\n",
        "          'accuracy': { 'train': all_training_acc, 'test': all_test_acc }}\n",
        "\n",
        "def plot_graphs(model_name, metrics):\n",
        "  for metric, values in metrics.items():\n",
        "    for name, v in values.items():\n",
        "      plt.plot(v[:,0], v[:,1], label=name)\n",
        "    plt.title(f'{metric} for {model_name}')\n",
        "    plt.legend()\n",
        "    plt.xlabel(\"Training Steps\")\n",
        "    plt.ylabel(metric)\n",
        "    plt.show()\n",
        "    "
      ],
      "execution_count": 0,
      "outputs": []
    },
    {
      "metadata": {
        "colab_type": "text",
        "id": "1RupXQbCaXb3"
      },
      "cell_type": "markdown",
      "source": [
        "Load the** CIFA-10** dataset and define the transformations. You may also want to print its structure, size, as well as sample a few images to get a sense of how to design the network. "
      ]
    },
    {
      "metadata": {
        "colab_type": "code",
        "id": "mIJmLIgaZ_d3",
        "colab": {}
      },
      "cell_type": "code",
      "source": [
        "!mkdir hw10_data"
      ],
      "execution_count": 0,
      "outputs": []
    },
    {
      "metadata": {
        "colab_type": "code",
        "id": "aDBbPmPPaQuG",
        "outputId": "74fe8ff2-9c7d-4942-e1f9-f2b6de98997f",
        "colab": {
          "base_uri": "https://localhost:8080/",
          "height": 70
        }
      },
      "cell_type": "code",
      "source": [
        "# Download the data.\n",
        "from torchvision import datasets, transforms\n",
        "\n",
        "transformations = transforms.Compose(\n",
        "    [transforms.ToTensor(),\n",
        "     transforms.Normalize((0.5, 0.5, 0.5), (0.5, 0.5, 0.5))])\n",
        "train_set = datasets.CIFAR10(root='hw10_data/', download=True, transform=transformations)\n",
        "test_set = datasets.CIFAR10(root='hw10_data', download=True, train=False, transform=transformations)"
      ],
      "execution_count": 0,
      "outputs": [
        {
          "output_type": "stream",
          "text": [
            "\r0it [00:00, ?it/s]"
          ],
          "name": "stderr"
        },
        {
          "output_type": "stream",
          "text": [
            "Downloading https://www.cs.toronto.edu/~kriz/cifar-10-python.tar.gz to hw10_data/cifar-10-python.tar.gz\n"
          ],
          "name": "stdout"
        },
        {
          "output_type": "stream",
          "text": [
            "100%|█████████▉| 170385408/170498071 [01:51<00:00, 1178144.56it/s]"
          ],
          "name": "stderr"
        },
        {
          "output_type": "stream",
          "text": [
            "Files already downloaded and verified\n"
          ],
          "name": "stdout"
        }
      ]
    },
    {
      "metadata": {
        "colab_type": "text",
        "id": "dfomsGyJiKz9"
      },
      "cell_type": "markdown",
      "source": [
        "Use `DataLoader` to create a loader for the training set and a loader for the testing set. You can use a `batch_size` of 8 to start, and change it if you wish."
      ]
    },
    {
      "metadata": {
        "colab_type": "code",
        "id": "Ioe04mbSiQiV",
        "colab": {}
      },
      "cell_type": "code",
      "source": [
        "from torch.utils.data import DataLoader\n",
        "\n",
        "batch_size = 8\n",
        "train_loader = torch.utils.data.DataLoader(train_set, batch_size, shuffle=True, num_workers=2)\n",
        "test_loader = torch.utils.data.DataLoader(test_set, batch_size, shuffle=True, num_workers=2)\n",
        "\n",
        "input_shape = np.array(train_set[0][0]).shape\n",
        "input_dim = input_shape[1]*input_shape[2]*input_shape[0]\n"
      ],
      "execution_count": 0,
      "outputs": []
    },
    {
      "metadata": {
        "id": "G7dIiuM_wbw7",
        "colab_type": "code",
        "outputId": "0ca4fff5-690b-4641-f257-32de4ed4435c",
        "colab": {
          "base_uri": "https://localhost:8080/",
          "height": 35
        }
      },
      "cell_type": "code",
      "source": [
        "print(input_shape, input_dim)"
      ],
      "execution_count": 0,
      "outputs": [
        {
          "output_type": "stream",
          "text": [
            "(3, 32, 32) 3072\n"
          ],
          "name": "stdout"
        }
      ]
    },
    {
      "metadata": {
        "colab_type": "code",
        "id": "fGoPdmuUOOiE",
        "colab": {}
      },
      "cell_type": "code",
      "source": [
        "training_epochs = 5"
      ],
      "execution_count": 0,
      "outputs": []
    },
    {
      "metadata": {
        "colab_type": "text",
        "id": "3T2-qkh8frqF"
      },
      "cell_type": "markdown",
      "source": [
        "## Part 1 CIFAR10 with Fully Connected Neural Netowrk (25 Points)\n",
        "\n",
        "As a warm-up, let's begin by training a two-layer fully connected neural network model on ** CIFAR-10** dataset. You may go back to check HW8 for some basics.\n",
        "\n",
        "We will give you this code to use as a baseline to compare against your CNN models."
      ]
    },
    {
      "metadata": {
        "colab_type": "code",
        "id": "Ck1CGpRycRFE",
        "outputId": "93d04896-0694-479c-d277-839f143aa474",
        "colab": {
          "base_uri": "https://localhost:8080/",
          "height": 701
        }
      },
      "cell_type": "code",
      "source": [
        "class TwoLayerModel(nn.Module):\n",
        "  def __init__(self):\n",
        "    super(TwoLayerModel, self).__init__()\n",
        "    self.net = nn.Sequential(\n",
        "      Flatten(), \n",
        "      nn.Linear(input_dim, 64), \n",
        "      nn.ReLU(), \n",
        "      nn.Linear(64, 10))\n",
        "    \n",
        "  def forward(self, x):\n",
        "    return self.net(x)\n",
        "\n",
        "model = TwoLayerModel().to(device)\n",
        "\n",
        "loss = nn.CrossEntropyLoss()\n",
        "optimizer = optim.RMSprop(model.parameters(), lr=0.001, weight_decay=0.01)\n",
        "\n",
        "# Training epoch should be about 15-20 sec each on GPU.\n",
        "metrics = train(model, train_loader, test_loader, loss, optimizer, training_epochs)"
      ],
      "execution_count": 0,
      "outputs": [
        {
          "output_type": "stream",
          "text": [
            "  Epoch 0 @ step 0: Train Loss: 0.004390, Train Accuracy: 0.000000\n",
            "  Epoch 0 @ step 1000: Train Loss: 1.942243, Train Accuracy: 0.330375\n",
            "  Epoch 0 @ step 2000: Train Loss: 1.810273, Train Accuracy: 0.356875\n",
            "  Epoch 0 @ step 3000: Train Loss: 1.782965, Train Accuracy: 0.366500\n",
            "  Epoch 0 @ step 4000: Train Loss: 1.783442, Train Accuracy: 0.358750\n",
            "  Epoch 0 @ step 5000: Train Loss: 1.766210, Train Accuracy: 0.374750\n",
            "  Epoch 0 @ step 6000: Train Loss: 1.759786, Train Accuracy: 0.368375\n",
            "Epoch 0 Test Loss: 1.706578, Test Accuracy: 0.394800, time: 16.1s\n",
            "  Epoch 1 @ step 7000: Train Loss: 1.755003, Train Accuracy: 0.372000\n",
            "  Epoch 1 @ step 8000: Train Loss: 1.749676, Train Accuracy: 0.368375\n",
            "  Epoch 1 @ step 9000: Train Loss: 1.747340, Train Accuracy: 0.381750\n",
            "  Epoch 1 @ step 10000: Train Loss: 1.747037, Train Accuracy: 0.378250\n",
            "  Epoch 1 @ step 11000: Train Loss: 1.741457, Train Accuracy: 0.373125\n",
            "  Epoch 1 @ step 12000: Train Loss: 1.739987, Train Accuracy: 0.378750\n",
            "Epoch 1 Test Loss: 1.715416, Test Accuracy: 0.388700, time: 16.3s\n",
            "  Epoch 2 @ step 13000: Train Loss: 1.737271, Train Accuracy: 0.377125\n",
            "  Epoch 2 @ step 14000: Train Loss: 1.733096, Train Accuracy: 0.383625\n",
            "  Epoch 2 @ step 15000: Train Loss: 1.755374, Train Accuracy: 0.376375\n",
            "  Epoch 2 @ step 16000: Train Loss: 1.734322, Train Accuracy: 0.376875\n",
            "  Epoch 2 @ step 17000: Train Loss: 1.751227, Train Accuracy: 0.377125\n",
            "  Epoch 2 @ step 18000: Train Loss: 1.729218, Train Accuracy: 0.379250\n",
            "Epoch 2 Test Loss: 1.701062, Test Accuracy: 0.393300, time: 17.3s\n",
            "  Epoch 3 @ step 19000: Train Loss: 1.723698, Train Accuracy: 0.386250\n",
            "  Epoch 3 @ step 20000: Train Loss: 1.756092, Train Accuracy: 0.373500\n",
            "  Epoch 3 @ step 21000: Train Loss: 1.749659, Train Accuracy: 0.370500\n",
            "  Epoch 3 @ step 22000: Train Loss: 1.738684, Train Accuracy: 0.380500\n",
            "  Epoch 3 @ step 23000: Train Loss: 1.733632, Train Accuracy: 0.382125\n",
            "  Epoch 3 @ step 24000: Train Loss: 1.728199, Train Accuracy: 0.383375\n",
            "Epoch 3 Test Loss: 1.703669, Test Accuracy: 0.388800, time: 16.2s\n",
            "  Epoch 4 @ step 25000: Train Loss: 1.727123, Train Accuracy: 0.384250\n",
            "  Epoch 4 @ step 26000: Train Loss: 1.713525, Train Accuracy: 0.381250\n",
            "  Epoch 4 @ step 27000: Train Loss: 1.723146, Train Accuracy: 0.383000\n",
            "  Epoch 4 @ step 28000: Train Loss: 1.734324, Train Accuracy: 0.382125\n",
            "  Epoch 4 @ step 29000: Train Loss: 1.735427, Train Accuracy: 0.377375\n",
            "  Epoch 4 @ step 30000: Train Loss: 1.748509, Train Accuracy: 0.375625\n",
            "  Epoch 4 @ step 31000: Train Loss: 1.745081, Train Accuracy: 0.378250\n",
            "Epoch 4 Test Loss: 1.712217, Test Accuracy: 0.382300, time: 16.2s\n",
            "Final Test Loss: 1.712217, Test Accuracy: 0.382300, Total time: 82.0s\n"
          ],
          "name": "stdout"
        }
      ]
    },
    {
      "metadata": {
        "colab_type": "text",
        "id": "qjbncuMnKpf7"
      },
      "cell_type": "markdown",
      "source": [
        "**Plot the model results**\n",
        "\n",
        "Normally we would want to use Tensorboard for looking at metrics.  However, if colab reset while we are working, we might lose our logs and therefore our metrics.  Let's just plot some graphs that will survive across colab instances."
      ]
    },
    {
      "metadata": {
        "colab_type": "code",
        "id": "CuVL9MJ_D92h",
        "outputId": "ff7d778e-94ab-44c8-f886-1835bd3a5ee2",
        "colab": {
          "base_uri": "https://localhost:8080/",
          "height": 573
        }
      },
      "cell_type": "code",
      "source": [
        "plot_graphs(\"TwoLayerModel\", metrics)"
      ],
      "execution_count": 0,
      "outputs": [
        {
          "output_type": "display_data",
          "data": {
            "image/png": "[encoded data removed]",
            "text/plain": [
              "<Figure size 432x288 with 1 Axes>"
            ]
          },
          "metadata": {
            "tags": []
          }
        },
        {
          "output_type": "display_data",
          "data": {
            "image/png": "[encoded data removed]",
            "text/plain": [
              "<Figure size 432x288 with 1 Axes>"
            ]
          },
          "metadata": {
            "tags": []
          }
        }
      ]
    },
    {
      "metadata": {
        "colab_type": "text",
        "id": "4_xi8bkkfsM7"
      },
      "cell_type": "markdown",
      "source": [
        "## Part 2 Convolutional Neural Network (CNN) (35 Points)\n",
        "\n",
        "Now, let's design a convolution neural netwrok!\n",
        "\n",
        "Build a simple CNN model, inserting 2 CNN layers in from of our 2 layer fully connect model from above:\n",
        "\n",
        "1. A convolution with\t3x3 filter, 16 output channels, stride = 1, padding=1\n",
        "2. A ReLU activation\n",
        "2. A Max-Pooling layer with 2x2 window\n",
        "3. A convolution,\t3x3 filter, 16 output channels, stride = 1, padding=1\n",
        "4. A ReLU activation\n",
        "4. Flatten layer\n",
        "5. Fully connected linear layer with output size 64\n",
        "6. ReLU\n",
        "7. Fully connected linear layer, with output size 10\n",
        "\n",
        "You will have to figure out the input sizes of the first fully connnected layer based on the previous layer sizes. Note that you also need to fill those in the report section (see report section in the notebook for details) "
      ]
    },
    {
      "metadata": {
        "id": "ePUk38wIySDQ",
        "colab_type": "text"
      },
      "cell_type": "markdown",
      "source": [
        "The output size of any dimension from either a convolutional filtering or pooling operation can be calculated by the following equation:\n",
        "Wout=(Win-F+2P)/S +1"
      ]
    },
    {
      "metadata": {
        "colab_type": "code",
        "id": "tLXjjywngO7g",
        "outputId": "ace21e51-97e0-4f74-eb35-c7675131f034",
        "colab": {
          "base_uri": "https://localhost:8080/",
          "height": 3959
        }
      },
      "cell_type": "code",
      "source": [
        "class ConvModel(nn.Module):\n",
        "  def __init__(self):\n",
        "    super(ConvModel, self).__init__()\n",
        "    self.net = nn.Sequential(\n",
        "      #Flatten(), \n",
        "      nn.Conv2d(3, 16, kernel_size=3, stride=1, padding=1),\n",
        "      #ouptput 16 channels of 32*32 images\n",
        "      nn.ReLU(), \n",
        "      nn.MaxPool2d(kernel_size=2,stride=2),\n",
        "      #output 16 channels of 16*16 images\n",
        "      nn.Conv2d(16, 16, kernel_size=3, stride=1, padding=1),\n",
        "      # 16 channels, 16*16 images\n",
        "      nn.ReLU(), \n",
        "      Flatten(),\n",
        "      nn.Linear(16*16*16, 64),\n",
        "      nn.ReLU(),\n",
        "      nn.Linear(64, 10))\n",
        "    \n",
        "  def forward(self, x):\n",
        "    return self.net(x)\n",
        "\n",
        "model = ConvModel().to(device)\n",
        "\n",
        "loss = nn.CrossEntropyLoss()\n",
        "optimizer = optim.RMSprop(model.parameters(), lr=0.001, weight_decay=0.01)\n",
        "\n",
        "metrics = train(model, train_loader, test_loader, loss, optimizer, 30)"
      ],
      "execution_count": 0,
      "outputs": [
        {
          "output_type": "stream",
          "text": [
            "  Epoch 0 @ step 0: Train Loss: 0.004276, Train Accuracy: 0.000125\n",
            "  Epoch 0 @ step 1000: Train Loss: 1.866004, Train Accuracy: 0.323125\n",
            "  Epoch 0 @ step 2000: Train Loss: 1.580679, Train Accuracy: 0.426625\n",
            "  Epoch 0 @ step 3000: Train Loss: 1.512693, Train Accuracy: 0.452250\n",
            "  Epoch 0 @ step 4000: Train Loss: 1.487302, Train Accuracy: 0.459625\n",
            "  Epoch 0 @ step 5000: Train Loss: 1.441965, Train Accuracy: 0.478500\n",
            "  Epoch 0 @ step 6000: Train Loss: 1.421123, Train Accuracy: 0.489875\n",
            "Epoch 0 Test Loss: 1.369120, Test Accuracy: 0.505600, time: 23.6s\n",
            "  Epoch 1 @ step 7000: Train Loss: 1.375226, Train Accuracy: 0.503750\n",
            "  Epoch 1 @ step 8000: Train Loss: 1.369301, Train Accuracy: 0.506500\n",
            "  Epoch 1 @ step 9000: Train Loss: 1.344050, Train Accuracy: 0.514125\n",
            "  Epoch 1 @ step 10000: Train Loss: 1.348974, Train Accuracy: 0.515250\n",
            "  Epoch 1 @ step 11000: Train Loss: 1.342995, Train Accuracy: 0.510125\n",
            "  Epoch 1 @ step 12000: Train Loss: 1.337554, Train Accuracy: 0.517500\n",
            "Epoch 1 Test Loss: 1.300458, Test Accuracy: 0.527000, time: 24.1s\n",
            "  Epoch 2 @ step 13000: Train Loss: 1.314529, Train Accuracy: 0.526375\n",
            "  Epoch 2 @ step 14000: Train Loss: 1.306719, Train Accuracy: 0.523000\n",
            "  Epoch 2 @ step 15000: Train Loss: 1.291623, Train Accuracy: 0.540250\n",
            "  Epoch 2 @ step 16000: Train Loss: 1.286935, Train Accuracy: 0.544000\n",
            "  Epoch 2 @ step 17000: Train Loss: 1.271017, Train Accuracy: 0.551250\n",
            "  Epoch 2 @ step 18000: Train Loss: 1.284559, Train Accuracy: 0.546625\n",
            "Epoch 2 Test Loss: 1.218811, Test Accuracy: 0.561800, time: 24.1s\n",
            "  Epoch 3 @ step 19000: Train Loss: 1.265103, Train Accuracy: 0.548250\n",
            "  Epoch 3 @ step 20000: Train Loss: 1.237651, Train Accuracy: 0.559500\n",
            "  Epoch 3 @ step 21000: Train Loss: 1.247907, Train Accuracy: 0.554750\n",
            "  Epoch 3 @ step 22000: Train Loss: 1.239731, Train Accuracy: 0.551000\n",
            "  Epoch 3 @ step 23000: Train Loss: 1.232680, Train Accuracy: 0.560500\n",
            "  Epoch 3 @ step 24000: Train Loss: 1.216619, Train Accuracy: 0.570250\n",
            "Epoch 3 Test Loss: 1.246815, Test Accuracy: 0.550500, time: 24.8s\n",
            "  Epoch 4 @ step 25000: Train Loss: 1.248640, Train Accuracy: 0.563000\n",
            "  Epoch 4 @ step 26000: Train Loss: 1.200772, Train Accuracy: 0.575250\n",
            "  Epoch 4 @ step 27000: Train Loss: 1.221706, Train Accuracy: 0.566625\n",
            "  Epoch 4 @ step 28000: Train Loss: 1.204255, Train Accuracy: 0.568250\n",
            "  Epoch 4 @ step 29000: Train Loss: 1.207843, Train Accuracy: 0.571875\n",
            "  Epoch 4 @ step 30000: Train Loss: 1.214234, Train Accuracy: 0.565500\n",
            "  Epoch 4 @ step 31000: Train Loss: 1.203960, Train Accuracy: 0.573750\n",
            "Epoch 4 Test Loss: 1.184837, Test Accuracy: 0.579400, time: 23.3s\n",
            "  Epoch 5 @ step 32000: Train Loss: 1.199455, Train Accuracy: 0.577000\n",
            "  Epoch 5 @ step 33000: Train Loss: 1.206609, Train Accuracy: 0.574500\n",
            "  Epoch 5 @ step 34000: Train Loss: 1.205901, Train Accuracy: 0.570875\n",
            "  Epoch 5 @ step 35000: Train Loss: 1.187419, Train Accuracy: 0.578250\n",
            "  Epoch 5 @ step 36000: Train Loss: 1.185115, Train Accuracy: 0.578500\n",
            "  Epoch 5 @ step 37000: Train Loss: 1.179274, Train Accuracy: 0.579875\n",
            "Epoch 5 Test Loss: 1.178173, Test Accuracy: 0.578000, time: 23.1s\n",
            "  Epoch 6 @ step 38000: Train Loss: 1.177227, Train Accuracy: 0.577250\n",
            "  Epoch 6 @ step 39000: Train Loss: 1.178194, Train Accuracy: 0.580125\n",
            "  Epoch 6 @ step 40000: Train Loss: 1.185403, Train Accuracy: 0.578625\n",
            "  Epoch 6 @ step 41000: Train Loss: 1.181829, Train Accuracy: 0.585250\n",
            "  Epoch 6 @ step 42000: Train Loss: 1.200278, Train Accuracy: 0.574500\n",
            "  Epoch 6 @ step 43000: Train Loss: 1.188862, Train Accuracy: 0.584250\n",
            "Epoch 6 Test Loss: 1.204802, Test Accuracy: 0.577200, time: 25.5s\n",
            "  Epoch 7 @ step 44000: Train Loss: 1.157130, Train Accuracy: 0.592625\n",
            "  Epoch 7 @ step 45000: Train Loss: 1.179462, Train Accuracy: 0.586500\n",
            "  Epoch 7 @ step 46000: Train Loss: 1.188417, Train Accuracy: 0.571875\n",
            "  Epoch 7 @ step 47000: Train Loss: 1.182299, Train Accuracy: 0.582375\n",
            "  Epoch 7 @ step 48000: Train Loss: 1.162248, Train Accuracy: 0.582625\n",
            "  Epoch 7 @ step 49000: Train Loss: 1.175340, Train Accuracy: 0.586375\n",
            "Epoch 7 Test Loss: 1.184836, Test Accuracy: 0.577800, time: 23.3s\n",
            "  Epoch 8 @ step 50000: Train Loss: 1.187826, Train Accuracy: 0.576125\n",
            "  Epoch 8 @ step 51000: Train Loss: 1.160476, Train Accuracy: 0.589125\n",
            "  Epoch 8 @ step 52000: Train Loss: 1.148454, Train Accuracy: 0.599875\n",
            "  Epoch 8 @ step 53000: Train Loss: 1.197017, Train Accuracy: 0.572625\n",
            "  Epoch 8 @ step 54000: Train Loss: 1.178253, Train Accuracy: 0.579625\n",
            "  Epoch 8 @ step 55000: Train Loss: 1.182493, Train Accuracy: 0.581375\n",
            "  Epoch 8 @ step 56000: Train Loss: 1.170721, Train Accuracy: 0.582625\n",
            "Epoch 8 Test Loss: 1.198454, Test Accuracy: 0.578200, time: 25.0s\n",
            "  Epoch 9 @ step 57000: Train Loss: 1.142308, Train Accuracy: 0.587750\n",
            "  Epoch 9 @ step 58000: Train Loss: 1.144450, Train Accuracy: 0.592000\n",
            "  Epoch 9 @ step 59000: Train Loss: 1.182564, Train Accuracy: 0.578500\n",
            "  Epoch 9 @ step 60000: Train Loss: 1.154234, Train Accuracy: 0.590250\n",
            "  Epoch 9 @ step 61000: Train Loss: 1.157444, Train Accuracy: 0.587125\n",
            "  Epoch 9 @ step 62000: Train Loss: 1.184992, Train Accuracy: 0.582125\n",
            "Epoch 9 Test Loss: 1.141790, Test Accuracy: 0.590600, time: 24.1s\n",
            "  Epoch 10 @ step 63000: Train Loss: 1.159880, Train Accuracy: 0.590625\n",
            "  Epoch 10 @ step 64000: Train Loss: 1.171015, Train Accuracy: 0.581375\n",
            "  Epoch 10 @ step 65000: Train Loss: 1.176892, Train Accuracy: 0.581875\n",
            "  Epoch 10 @ step 66000: Train Loss: 1.144361, Train Accuracy: 0.592000\n",
            "  Epoch 10 @ step 67000: Train Loss: 1.163497, Train Accuracy: 0.585250\n",
            "  Epoch 10 @ step 68000: Train Loss: 1.155255, Train Accuracy: 0.586125\n",
            "Epoch 10 Test Loss: 1.130512, Test Accuracy: 0.601900, time: 24.2s\n",
            "  Epoch 11 @ step 69000: Train Loss: 1.150355, Train Accuracy: 0.597250\n",
            "  Epoch 11 @ step 70000: Train Loss: 1.136623, Train Accuracy: 0.593375\n",
            "  Epoch 11 @ step 71000: Train Loss: 1.141553, Train Accuracy: 0.594875\n",
            "  Epoch 11 @ step 72000: Train Loss: 1.141494, Train Accuracy: 0.590875\n",
            "  Epoch 11 @ step 73000: Train Loss: 1.155413, Train Accuracy: 0.588750\n",
            "  Epoch 11 @ step 74000: Train Loss: 1.176267, Train Accuracy: 0.581250\n",
            "Epoch 11 Test Loss: 1.151633, Test Accuracy: 0.594600, time: 23.4s\n",
            "  Epoch 12 @ step 75000: Train Loss: 1.139290, Train Accuracy: 0.597500\n",
            "  Epoch 12 @ step 76000: Train Loss: 1.124247, Train Accuracy: 0.601375\n",
            "  Epoch 12 @ step 77000: Train Loss: 1.134991, Train Accuracy: 0.600500\n",
            "  Epoch 12 @ step 78000: Train Loss: 1.120120, Train Accuracy: 0.604250\n",
            "  Epoch 12 @ step 79000: Train Loss: 1.165986, Train Accuracy: 0.587125\n",
            "  Epoch 12 @ step 80000: Train Loss: 1.138226, Train Accuracy: 0.598375\n",
            "  Epoch 12 @ step 81000: Train Loss: 1.155128, Train Accuracy: 0.588250\n",
            "Epoch 12 Test Loss: 1.108050, Test Accuracy: 0.612500, time: 24.5s\n",
            "  Epoch 13 @ step 82000: Train Loss: 1.116653, Train Accuracy: 0.599875\n",
            "  Epoch 13 @ step 83000: Train Loss: 1.150904, Train Accuracy: 0.594000\n",
            "  Epoch 13 @ step 84000: Train Loss: 1.137772, Train Accuracy: 0.600500\n",
            "  Epoch 13 @ step 85000: Train Loss: 1.112362, Train Accuracy: 0.608875\n",
            "  Epoch 13 @ step 86000: Train Loss: 1.144430, Train Accuracy: 0.593625\n",
            "  Epoch 13 @ step 87000: Train Loss: 1.152392, Train Accuracy: 0.593750\n",
            "Epoch 13 Test Loss: 1.140637, Test Accuracy: 0.596200, time: 25.0s\n",
            "  Epoch 14 @ step 88000: Train Loss: 1.121984, Train Accuracy: 0.597750\n",
            "  Epoch 14 @ step 89000: Train Loss: 1.131748, Train Accuracy: 0.592500\n",
            "  Epoch 14 @ step 90000: Train Loss: 1.142414, Train Accuracy: 0.592875\n",
            "  Epoch 14 @ step 91000: Train Loss: 1.122393, Train Accuracy: 0.607500\n",
            "  Epoch 14 @ step 92000: Train Loss: 1.133227, Train Accuracy: 0.603250\n",
            "  Epoch 14 @ step 93000: Train Loss: 1.146278, Train Accuracy: 0.594375\n",
            "Epoch 14 Test Loss: 1.161554, Test Accuracy: 0.576800, time: 23.7s\n",
            "  Epoch 15 @ step 94000: Train Loss: 1.122265, Train Accuracy: 0.613000\n",
            "  Epoch 15 @ step 95000: Train Loss: 1.140928, Train Accuracy: 0.598000\n",
            "  Epoch 15 @ step 96000: Train Loss: 1.133836, Train Accuracy: 0.596250\n",
            "  Epoch 15 @ step 97000: Train Loss: 1.108367, Train Accuracy: 0.611250\n",
            "  Epoch 15 @ step 98000: Train Loss: 1.125594, Train Accuracy: 0.601625\n",
            "  Epoch 15 @ step 99000: Train Loss: 1.128143, Train Accuracy: 0.604250\n",
            "Epoch 15 Test Loss: 1.147262, Test Accuracy: 0.589200, time: 23.9s\n",
            "  Epoch 16 @ step 100000: Train Loss: 1.119087, Train Accuracy: 0.605750\n",
            "  Epoch 16 @ step 101000: Train Loss: 1.120647, Train Accuracy: 0.604750\n",
            "  Epoch 16 @ step 102000: Train Loss: 1.085595, Train Accuracy: 0.617875\n",
            "  Epoch 16 @ step 103000: Train Loss: 1.106979, Train Accuracy: 0.611000\n",
            "  Epoch 16 @ step 104000: Train Loss: 1.133724, Train Accuracy: 0.600125\n",
            "  Epoch 16 @ step 105000: Train Loss: 1.127599, Train Accuracy: 0.599750\n",
            "  Epoch 16 @ step 106000: Train Loss: 1.122785, Train Accuracy: 0.604125\n",
            "Epoch 16 Test Loss: 1.137470, Test Accuracy: 0.585600, time: 24.5s\n",
            "  Epoch 17 @ step 107000: Train Loss: 1.089424, Train Accuracy: 0.609375\n",
            "  Epoch 17 @ step 108000: Train Loss: 1.106097, Train Accuracy: 0.608750\n",
            "  Epoch 17 @ step 109000: Train Loss: 1.121028, Train Accuracy: 0.599750\n",
            "  Epoch 17 @ step 110000: Train Loss: 1.114831, Train Accuracy: 0.605000\n",
            "  Epoch 17 @ step 111000: Train Loss: 1.123372, Train Accuracy: 0.604875\n",
            "  Epoch 17 @ step 112000: Train Loss: 1.115642, Train Accuracy: 0.609625\n",
            "Epoch 17 Test Loss: 1.147167, Test Accuracy: 0.597800, time: 22.8s\n",
            "  Epoch 18 @ step 113000: Train Loss: 1.112826, Train Accuracy: 0.609375\n",
            "  Epoch 18 @ step 114000: Train Loss: 1.106725, Train Accuracy: 0.612250\n",
            "  Epoch 18 @ step 115000: Train Loss: 1.100047, Train Accuracy: 0.608250\n",
            "  Epoch 18 @ step 116000: Train Loss: 1.126241, Train Accuracy: 0.603375\n",
            "  Epoch 18 @ step 117000: Train Loss: 1.111171, Train Accuracy: 0.608250\n",
            "  Epoch 18 @ step 118000: Train Loss: 1.109023, Train Accuracy: 0.606375\n",
            "Epoch 18 Test Loss: 1.159710, Test Accuracy: 0.589400, time: 24.5s\n",
            "  Epoch 19 @ step 119000: Train Loss: 1.079261, Train Accuracy: 0.620500\n",
            "  Epoch 19 @ step 120000: Train Loss: 1.082629, Train Accuracy: 0.617250\n",
            "  Epoch 19 @ step 121000: Train Loss: 1.115224, Train Accuracy: 0.606125\n",
            "  Epoch 19 @ step 122000: Train Loss: 1.090646, Train Accuracy: 0.623125\n",
            "  Epoch 19 @ step 123000: Train Loss: 1.110818, Train Accuracy: 0.609250\n",
            "  Epoch 19 @ step 124000: Train Loss: 1.094268, Train Accuracy: 0.612375\n",
            "Epoch 19 Test Loss: 1.091087, Test Accuracy: 0.616600, time: 23.8s\n",
            "  Epoch 20 @ step 125000: Train Loss: 1.111072, Train Accuracy: 0.611875\n",
            "  Epoch 20 @ step 126000: Train Loss: 1.087644, Train Accuracy: 0.617875\n",
            "  Epoch 20 @ step 127000: Train Loss: 1.086784, Train Accuracy: 0.611750\n",
            "  Epoch 20 @ step 128000: Train Loss: 1.086716, Train Accuracy: 0.616125\n",
            "  Epoch 20 @ step 129000: Train Loss: 1.097360, Train Accuracy: 0.613750\n",
            "  Epoch 20 @ step 130000: Train Loss: 1.096020, Train Accuracy: 0.613250\n",
            "  Epoch 20 @ step 131000: Train Loss: 1.089440, Train Accuracy: 0.613500\n",
            "Epoch 20 Test Loss: 1.101762, Test Accuracy: 0.613900, time: 23.1s\n",
            "  Epoch 21 @ step 132000: Train Loss: 1.088906, Train Accuracy: 0.619750\n",
            "  Epoch 21 @ step 133000: Train Loss: 1.095472, Train Accuracy: 0.613500\n",
            "  Epoch 21 @ step 134000: Train Loss: 1.103776, Train Accuracy: 0.615125\n",
            "  Epoch 21 @ step 135000: Train Loss: 1.085622, Train Accuracy: 0.614250\n",
            "  Epoch 21 @ step 136000: Train Loss: 1.082471, Train Accuracy: 0.613500\n",
            "  Epoch 21 @ step 137000: Train Loss: 1.097166, Train Accuracy: 0.613250\n",
            "Epoch 21 Test Loss: 1.033399, Test Accuracy: 0.633400, time: 24.3s\n",
            "  Epoch 22 @ step 138000: Train Loss: 1.090762, Train Accuracy: 0.609375\n",
            "  Epoch 22 @ step 139000: Train Loss: 1.071383, Train Accuracy: 0.624125\n",
            "  Epoch 22 @ step 140000: Train Loss: 1.099443, Train Accuracy: 0.617250\n",
            "  Epoch 22 @ step 141000: Train Loss: 1.071374, Train Accuracy: 0.628250\n",
            "  Epoch 22 @ step 142000: Train Loss: 1.088350, Train Accuracy: 0.615875\n",
            "  Epoch 22 @ step 143000: Train Loss: 1.095502, Train Accuracy: 0.612500\n",
            "Epoch 22 Test Loss: 1.096045, Test Accuracy: 0.607900, time: 23.3s\n",
            "  Epoch 23 @ step 144000: Train Loss: 1.088542, Train Accuracy: 0.620125\n",
            "  Epoch 23 @ step 145000: Train Loss: 1.065628, Train Accuracy: 0.630375\n",
            "  Epoch 23 @ step 146000: Train Loss: 1.090729, Train Accuracy: 0.614250\n",
            "  Epoch 23 @ step 147000: Train Loss: 1.093139, Train Accuracy: 0.617875\n",
            "  Epoch 23 @ step 148000: Train Loss: 1.094741, Train Accuracy: 0.619625\n",
            "  Epoch 23 @ step 149000: Train Loss: 1.096609, Train Accuracy: 0.615500\n",
            "Epoch 23 Test Loss: 1.121168, Test Accuracy: 0.592200, time: 25.1s\n",
            "  Epoch 24 @ step 150000: Train Loss: 1.077410, Train Accuracy: 0.620000\n",
            "  Epoch 24 @ step 151000: Train Loss: 1.059571, Train Accuracy: 0.624375\n",
            "  Epoch 24 @ step 152000: Train Loss: 1.094528, Train Accuracy: 0.613375\n",
            "  Epoch 24 @ step 153000: Train Loss: 1.090014, Train Accuracy: 0.617375\n",
            "  Epoch 24 @ step 154000: Train Loss: 1.076655, Train Accuracy: 0.624125\n",
            "  Epoch 24 @ step 155000: Train Loss: 1.098369, Train Accuracy: 0.609625\n",
            "  Epoch 24 @ step 156000: Train Loss: 1.085803, Train Accuracy: 0.618500\n",
            "Epoch 24 Test Loss: 1.097087, Test Accuracy: 0.612000, time: 22.9s\n",
            "  Epoch 25 @ step 157000: Train Loss: 1.061329, Train Accuracy: 0.624875\n",
            "  Epoch 25 @ step 158000: Train Loss: 1.100728, Train Accuracy: 0.612375\n",
            "  Epoch 25 @ step 159000: Train Loss: 1.070612, Train Accuracy: 0.618500\n",
            "  Epoch 25 @ step 160000: Train Loss: 1.087322, Train Accuracy: 0.613500\n",
            "  Epoch 25 @ step 161000: Train Loss: 1.078180, Train Accuracy: 0.618875\n",
            "  Epoch 25 @ step 162000: Train Loss: 1.090366, Train Accuracy: 0.611250\n",
            "Epoch 25 Test Loss: 1.041427, Test Accuracy: 0.635700, time: 26.0s\n",
            "  Epoch 26 @ step 163000: Train Loss: 1.069972, Train Accuracy: 0.623375\n",
            "  Epoch 26 @ step 164000: Train Loss: 1.064297, Train Accuracy: 0.621000\n",
            "  Epoch 26 @ step 165000: Train Loss: 1.086905, Train Accuracy: 0.617625\n",
            "  Epoch 26 @ step 166000: Train Loss: 1.079463, Train Accuracy: 0.619875\n",
            "  Epoch 26 @ step 167000: Train Loss: 1.094346, Train Accuracy: 0.614250\n",
            "  Epoch 26 @ step 168000: Train Loss: 1.066573, Train Accuracy: 0.624000\n",
            "Epoch 26 Test Loss: 1.047838, Test Accuracy: 0.628200, time: 23.4s\n",
            "  Epoch 27 @ step 169000: Train Loss: 1.077459, Train Accuracy: 0.625625\n",
            "  Epoch 27 @ step 170000: Train Loss: 1.078195, Train Accuracy: 0.614375\n",
            "  Epoch 27 @ step 171000: Train Loss: 1.099887, Train Accuracy: 0.609500\n",
            "  Epoch 27 @ step 172000: Train Loss: 1.072807, Train Accuracy: 0.625625\n",
            "  Epoch 27 @ step 173000: Train Loss: 1.084623, Train Accuracy: 0.614375\n",
            "  Epoch 27 @ step 174000: Train Loss: 1.083056, Train Accuracy: 0.617250\n",
            "Epoch 27 Test Loss: 1.160925, Test Accuracy: 0.597300, time: 24.8s\n",
            "  Epoch 28 @ step 175000: Train Loss: 1.074442, Train Accuracy: 0.622375\n",
            "  Epoch 28 @ step 176000: Train Loss: 1.066805, Train Accuracy: 0.626250\n",
            "  Epoch 28 @ step 177000: Train Loss: 1.076578, Train Accuracy: 0.618875\n",
            "  Epoch 28 @ step 178000: Train Loss: 1.083994, Train Accuracy: 0.620250\n",
            "  Epoch 28 @ step 179000: Train Loss: 1.067463, Train Accuracy: 0.628500\n",
            "  Epoch 28 @ step 180000: Train Loss: 1.098361, Train Accuracy: 0.614750\n",
            "  Epoch 28 @ step 181000: Train Loss: 1.107912, Train Accuracy: 0.607000\n",
            "Epoch 28 Test Loss: 1.065864, Test Accuracy: 0.624400, time: 26.1s\n",
            "  Epoch 29 @ step 182000: Train Loss: 1.058454, Train Accuracy: 0.621375\n",
            "  Epoch 29 @ step 183000: Train Loss: 1.093957, Train Accuracy: 0.615375\n",
            "  Epoch 29 @ step 184000: Train Loss: 1.066081, Train Accuracy: 0.625625\n",
            "  Epoch 29 @ step 185000: Train Loss: 1.090240, Train Accuracy: 0.609000\n",
            "  Epoch 29 @ step 186000: Train Loss: 1.092045, Train Accuracy: 0.622000\n",
            "  Epoch 29 @ step 187000: Train Loss: 1.088724, Train Accuracy: 0.613750\n",
            "Epoch 29 Test Loss: 1.035668, Test Accuracy: 0.634500, time: 22.9s\n",
            "Final Test Loss: 1.035668, Test Accuracy: 0.634500, Total time: 722.9s\n"
          ],
          "name": "stdout"
        }
      ]
    },
    {
      "metadata": {
        "colab_type": "code",
        "id": "8BGTJw-TPTfh",
        "outputId": "f146f168-117d-4786-9a81-408e6a6cadae",
        "colab": {
          "base_uri": "https://localhost:8080/",
          "height": 573
        }
      },
      "cell_type": "code",
      "source": [
        "plot_graphs(\"ConvModel\", metrics)"
      ],
      "execution_count": 0,
      "outputs": [
        {
          "output_type": "display_data",
          "data": {
            "image/png": "[encoded data removed]",
            "text/plain": [
              "<Figure size 432x288 with 1 Axes>"
            ]
          },
          "metadata": {
            "tags": []
          }
        },
        {
          "output_type": "display_data",
          "data": {
            "image/png": "[encoded data removed]",
            "text/plain": [
              "<Figure size 432x288 with 1 Axes>"
            ]
          },
          "metadata": {
            "tags": []
          }
        }
      ]
    },
    {
      "metadata": {
        "colab_type": "text",
        "id": "oFAc6IORmzCJ"
      },
      "cell_type": "markdown",
      "source": [
        "Do you notice the improvement over the accuracy compared to that in Part 1?"
      ]
    },
    {
      "metadata": {
        "colab_type": "text",
        "id": "hXpJgsjhftDP"
      },
      "cell_type": "markdown",
      "source": [
        "## Part 3 Open Design Competition (35 Points + 10 bonus points)\n",
        "\n",
        "Try to beat the previous models by adding additional layers, changing parameters, etc.  You should add at least one layer.\n",
        "\n",
        "Possible changes include:\n",
        "*   Dropout\n",
        "*   Batch Normalization\n",
        "*   More layers\n",
        "*   Residual Connections (harder)\n",
        "*   Change layer size\n",
        "*   Pooling layers, stride\n",
        "*   Different optimizer\n",
        "*   Train for longer\n",
        "\n",
        "Once you have a model you think is great, evaluate it against our hidden test data (see hidden_loader above) and upload the results to the leader board on gradescope.  **The top 3 scorers will get a bonus 10 points.**\n",
        "\n",
        "You can steal model structures found on the internet if you want.  The only constraint is that **you must train the model from scratch**.\n"
      ]
    },
    {
      "metadata": {
        "colab_type": "code",
        "id": "QZFkuraiZOaT",
        "outputId": "d1a0fd9d-3f7d-485f-cd32-45b6e2ea1c3a",
        "colab": {
          "base_uri": "https://localhost:8080/",
          "height": 3696
        }
      },
      "cell_type": "code",
      "source": [
        "class AwesomeModel(nn.Module):\n",
        "  def __init__(self):\n",
        "    super(AwesomeModel, self).__init__()\n",
        "    self.net = nn.Sequential(\n",
        "      nn.Conv2d(3, 32, kernel_size=3, stride=1, padding=1),\n",
        "      #ouptput 32 channels of 32*32 images\n",
        "      nn.ReLU(),\n",
        "      nn.BatchNorm2d(32),\n",
        "      nn.Conv2d(32,32,kernel_size=3,stride=1,padding=1),\n",
        "      nn.ReLU(),\n",
        "      nn.BatchNorm2d(32),\n",
        "      nn.MaxPool2d(kernel_size=2,stride=2),\n",
        "      #output 32 channels of 16*16 images\n",
        "      nn.Dropout(0.2),\n",
        "\n",
        "\n",
        "      nn.Conv2d(32,64,kernel_size=3,stride=1, padding=1),\n",
        "      nn.ReLU(),\n",
        "      nn.BatchNorm2d(64),\n",
        "      nn.Conv2d(64,64,kernel_size=3,stride=1,padding=1),\n",
        "      nn.ReLU(),\n",
        "      nn.BatchNorm2d(64),\n",
        "      nn.MaxPool2d(kernel_size=2,stride=2),\n",
        "      nn.Dropout(0.3),\n",
        "\n",
        "      nn.Conv2d(64,128,kernel_size=3, stride=1,padding=1),\n",
        "      nn.ReLU(),\n",
        "      nn.BatchNorm2d(128),\n",
        "      nn.Conv2d(128,128,kernel_size=3,stride=1,padding=1),\n",
        "      nn.ReLU(),\n",
        "      nn.BatchNorm2d(128),\n",
        "      nn.MaxPool2d(kernel_size=2,stride=2),\n",
        "      nn.Dropout(0.4),\n",
        "\n",
        "\n",
        "      Flatten(),\n",
        "      nn.Linear(128*4*4,10))\n",
        "    \n",
        "  def forward(self, x):\n",
        "    return self.net(x)\n",
        "\n",
        "model = AwesomeModel().to(device)\n",
        "\n",
        "loss = nn.CrossEntropyLoss()\n",
        "optimizer = optim.Adam(model.parameters(), lr=0.001, weight_decay=0.01)\n",
        "\n",
        "metrics = train(model, train_loader, test_loader, loss, optimizer, 30)"
      ],
      "execution_count": 0,
      "outputs": [
        {
          "output_type": "stream",
          "text": [
            "  Epoch 0 @ step 0: Train Loss: 0.003948, Train Accuracy: 0.000375\n",
            "  Epoch 0 @ step 1000: Train Loss: 1.799990, Train Accuracy: 0.370250\n",
            "  Epoch 0 @ step 2000: Train Loss: 1.461034, Train Accuracy: 0.478625\n",
            "  Epoch 0 @ step 3000: Train Loss: 1.321742, Train Accuracy: 0.529625\n",
            "  Epoch 0 @ step 4000: Train Loss: 1.247442, Train Accuracy: 0.558750\n",
            "  Epoch 0 @ step 5000: Train Loss: 1.182451, Train Accuracy: 0.579500\n",
            "  Epoch 0 @ step 6000: Train Loss: 1.181611, Train Accuracy: 0.582875\n",
            "Epoch 0 Test Loss: 1.043126, Test Accuracy: 0.636000, time: 47.5s\n",
            "  Epoch 1 @ step 7000: Train Loss: 1.140490, Train Accuracy: 0.598750\n",
            "  Epoch 1 @ step 8000: Train Loss: 1.153071, Train Accuracy: 0.596125\n",
            "  Epoch 1 @ step 9000: Train Loss: 1.110101, Train Accuracy: 0.605875\n",
            "  Epoch 1 @ step 10000: Train Loss: 1.113825, Train Accuracy: 0.614250\n",
            "  Epoch 1 @ step 11000: Train Loss: 1.113779, Train Accuracy: 0.611250\n",
            "  Epoch 1 @ step 12000: Train Loss: 1.107407, Train Accuracy: 0.615375\n",
            "Epoch 1 Test Loss: 1.025990, Test Accuracy: 0.636200, time: 49.6s\n",
            "  Epoch 2 @ step 13000: Train Loss: 1.092844, Train Accuracy: 0.614625\n",
            "  Epoch 2 @ step 14000: Train Loss: 1.075610, Train Accuracy: 0.626625\n",
            "  Epoch 2 @ step 15000: Train Loss: 1.080183, Train Accuracy: 0.619875\n",
            "  Epoch 2 @ step 16000: Train Loss: 1.073672, Train Accuracy: 0.628000\n",
            "  Epoch 2 @ step 17000: Train Loss: 1.077750, Train Accuracy: 0.618500\n",
            "  Epoch 2 @ step 18000: Train Loss: 1.078687, Train Accuracy: 0.631000\n",
            "Epoch 2 Test Loss: 0.958881, Test Accuracy: 0.662100, time: 51.3s\n",
            "  Epoch 3 @ step 19000: Train Loss: 1.101525, Train Accuracy: 0.616375\n",
            "  Epoch 3 @ step 20000: Train Loss: 1.060759, Train Accuracy: 0.632000\n",
            "  Epoch 3 @ step 21000: Train Loss: 1.064380, Train Accuracy: 0.626625\n",
            "  Epoch 3 @ step 22000: Train Loss: 1.085690, Train Accuracy: 0.616625\n",
            "  Epoch 3 @ step 23000: Train Loss: 1.063660, Train Accuracy: 0.629875\n",
            "  Epoch 3 @ step 24000: Train Loss: 1.074925, Train Accuracy: 0.627000\n",
            "Epoch 3 Test Loss: 0.915380, Test Accuracy: 0.684900, time: 49.2s\n",
            "  Epoch 4 @ step 25000: Train Loss: 1.054448, Train Accuracy: 0.630250\n",
            "  Epoch 4 @ step 26000: Train Loss: 1.037781, Train Accuracy: 0.635000\n",
            "  Epoch 4 @ step 27000: Train Loss: 1.053592, Train Accuracy: 0.630625\n",
            "  Epoch 4 @ step 28000: Train Loss: 1.048744, Train Accuracy: 0.629875\n",
            "  Epoch 4 @ step 29000: Train Loss: 1.070579, Train Accuracy: 0.624250\n",
            "  Epoch 4 @ step 30000: Train Loss: 1.052473, Train Accuracy: 0.631125\n",
            "  Epoch 4 @ step 31000: Train Loss: 1.053264, Train Accuracy: 0.631000\n",
            "Epoch 4 Test Loss: 0.917769, Test Accuracy: 0.675400, time: 49.8s\n",
            "  Epoch 5 @ step 32000: Train Loss: 1.027639, Train Accuracy: 0.644500\n",
            "  Epoch 5 @ step 33000: Train Loss: 1.045335, Train Accuracy: 0.628500\n",
            "  Epoch 5 @ step 34000: Train Loss: 1.063424, Train Accuracy: 0.627250\n",
            "  Epoch 5 @ step 35000: Train Loss: 1.057481, Train Accuracy: 0.628750\n",
            "  Epoch 5 @ step 36000: Train Loss: 1.034050, Train Accuracy: 0.642375\n",
            "  Epoch 5 @ step 37000: Train Loss: 1.042148, Train Accuracy: 0.637250\n",
            "Epoch 5 Test Loss: 0.934650, Test Accuracy: 0.670100, time: 49.8s\n",
            "  Epoch 6 @ step 38000: Train Loss: 1.038417, Train Accuracy: 0.643000\n",
            "  Epoch 6 @ step 39000: Train Loss: 1.033858, Train Accuracy: 0.635500\n",
            "  Epoch 6 @ step 40000: Train Loss: 1.050938, Train Accuracy: 0.637375\n",
            "  Epoch 6 @ step 41000: Train Loss: 1.024711, Train Accuracy: 0.638250\n",
            "  Epoch 6 @ step 42000: Train Loss: 1.051712, Train Accuracy: 0.628250\n",
            "  Epoch 6 @ step 43000: Train Loss: 1.027043, Train Accuracy: 0.642625\n",
            "Epoch 6 Test Loss: 0.932872, Test Accuracy: 0.672800, time: 48.8s\n",
            "  Epoch 7 @ step 44000: Train Loss: 1.035715, Train Accuracy: 0.638250\n",
            "  Epoch 7 @ step 45000: Train Loss: 1.052266, Train Accuracy: 0.636125\n",
            "  Epoch 7 @ step 46000: Train Loss: 1.034183, Train Accuracy: 0.642000\n",
            "  Epoch 7 @ step 47000: Train Loss: 1.034423, Train Accuracy: 0.632875\n",
            "  Epoch 7 @ step 48000: Train Loss: 1.051705, Train Accuracy: 0.628500\n",
            "  Epoch 7 @ step 49000: Train Loss: 1.053729, Train Accuracy: 0.630750\n",
            "Epoch 7 Test Loss: 0.925928, Test Accuracy: 0.675500, time: 50.4s\n",
            "  Epoch 8 @ step 50000: Train Loss: 1.041359, Train Accuracy: 0.638625\n",
            "  Epoch 8 @ step 51000: Train Loss: 1.013960, Train Accuracy: 0.651375\n",
            "  Epoch 8 @ step 52000: Train Loss: 1.050917, Train Accuracy: 0.632000\n",
            "  Epoch 8 @ step 53000: Train Loss: 1.039032, Train Accuracy: 0.634500\n",
            "  Epoch 8 @ step 54000: Train Loss: 1.038299, Train Accuracy: 0.639375\n",
            "  Epoch 8 @ step 55000: Train Loss: 1.044461, Train Accuracy: 0.633250\n",
            "  Epoch 8 @ step 56000: Train Loss: 1.043998, Train Accuracy: 0.637500\n",
            "Epoch 8 Test Loss: 0.952250, Test Accuracy: 0.658500, time: 51.6s\n",
            "  Epoch 9 @ step 57000: Train Loss: 1.028033, Train Accuracy: 0.641125\n",
            "  Epoch 9 @ step 58000: Train Loss: 1.042444, Train Accuracy: 0.633250\n",
            "  Epoch 9 @ step 59000: Train Loss: 1.021783, Train Accuracy: 0.642375\n",
            "  Epoch 9 @ step 60000: Train Loss: 1.043486, Train Accuracy: 0.639000\n",
            "  Epoch 9 @ step 61000: Train Loss: 1.027298, Train Accuracy: 0.636375\n",
            "  Epoch 9 @ step 62000: Train Loss: 1.026731, Train Accuracy: 0.646125\n",
            "Epoch 9 Test Loss: 0.966189, Test Accuracy: 0.665300, time: 49.2s\n",
            "  Epoch 10 @ step 63000: Train Loss: 1.010711, Train Accuracy: 0.647375\n",
            "  Epoch 10 @ step 64000: Train Loss: 1.030388, Train Accuracy: 0.637125\n",
            "  Epoch 10 @ step 65000: Train Loss: 1.032821, Train Accuracy: 0.630375\n",
            "  Epoch 10 @ step 66000: Train Loss: 1.033481, Train Accuracy: 0.635250\n",
            "  Epoch 10 @ step 67000: Train Loss: 1.033054, Train Accuracy: 0.638375\n",
            "  Epoch 10 @ step 68000: Train Loss: 1.024039, Train Accuracy: 0.645625\n",
            "Epoch 10 Test Loss: 0.902518, Test Accuracy: 0.680500, time: 49.5s\n",
            "  Epoch 11 @ step 69000: Train Loss: 1.022763, Train Accuracy: 0.644000\n",
            "  Epoch 11 @ step 70000: Train Loss: 1.042714, Train Accuracy: 0.639125\n",
            "  Epoch 11 @ step 71000: Train Loss: 1.018629, Train Accuracy: 0.648000\n",
            "  Epoch 11 @ step 72000: Train Loss: 1.052266, Train Accuracy: 0.636750\n",
            "  Epoch 11 @ step 73000: Train Loss: 1.043639, Train Accuracy: 0.631875\n",
            "  Epoch 11 @ step 74000: Train Loss: 1.014376, Train Accuracy: 0.643000\n",
            "Epoch 11 Test Loss: 0.936988, Test Accuracy: 0.668700, time: 50.0s\n",
            "  Epoch 12 @ step 75000: Train Loss: 1.028482, Train Accuracy: 0.646250\n",
            "  Epoch 12 @ step 76000: Train Loss: 1.006442, Train Accuracy: 0.647875\n",
            "  Epoch 12 @ step 77000: Train Loss: 1.002685, Train Accuracy: 0.649375\n",
            "  Epoch 12 @ step 78000: Train Loss: 1.022707, Train Accuracy: 0.639625\n",
            "  Epoch 12 @ step 79000: Train Loss: 1.053855, Train Accuracy: 0.627875\n",
            "  Epoch 12 @ step 80000: Train Loss: 1.042601, Train Accuracy: 0.639625\n",
            "  Epoch 12 @ step 81000: Train Loss: 1.035998, Train Accuracy: 0.641250\n",
            "Epoch 12 Test Loss: 0.959462, Test Accuracy: 0.658300, time: 50.0s\n",
            "  Epoch 13 @ step 82000: Train Loss: 1.027140, Train Accuracy: 0.644125\n",
            "  Epoch 13 @ step 83000: Train Loss: 1.012075, Train Accuracy: 0.649000\n",
            "  Epoch 13 @ step 84000: Train Loss: 1.034496, Train Accuracy: 0.637875\n",
            "  Epoch 13 @ step 85000: Train Loss: 1.037342, Train Accuracy: 0.639625\n",
            "  Epoch 13 @ step 86000: Train Loss: 1.009813, Train Accuracy: 0.644000\n",
            "  Epoch 13 @ step 87000: Train Loss: 1.029345, Train Accuracy: 0.639000\n",
            "Epoch 13 Test Loss: 0.957233, Test Accuracy: 0.668800, time: 49.8s\n",
            "  Epoch 14 @ step 88000: Train Loss: 1.020581, Train Accuracy: 0.637750\n",
            "  Epoch 14 @ step 89000: Train Loss: 1.008451, Train Accuracy: 0.645000\n",
            "  Epoch 14 @ step 90000: Train Loss: 1.025623, Train Accuracy: 0.644625\n",
            "  Epoch 14 @ step 91000: Train Loss: 1.047878, Train Accuracy: 0.635125\n",
            "  Epoch 14 @ step 92000: Train Loss: 1.029330, Train Accuracy: 0.643000\n",
            "  Epoch 14 @ step 93000: Train Loss: 1.032408, Train Accuracy: 0.641750\n",
            "Epoch 14 Test Loss: 0.892582, Test Accuracy: 0.681200, time: 49.6s\n",
            "  Epoch 15 @ step 94000: Train Loss: 1.001095, Train Accuracy: 0.645875\n",
            "  Epoch 15 @ step 95000: Train Loss: 0.995669, Train Accuracy: 0.652875\n",
            "  Epoch 15 @ step 96000: Train Loss: 1.012705, Train Accuracy: 0.642000\n",
            "  Epoch 15 @ step 97000: Train Loss: 1.032190, Train Accuracy: 0.649750\n",
            "  Epoch 15 @ step 98000: Train Loss: 1.016220, Train Accuracy: 0.649875\n",
            "  Epoch 15 @ step 99000: Train Loss: 1.045358, Train Accuracy: 0.635500\n",
            "Epoch 15 Test Loss: 0.883087, Test Accuracy: 0.694200, time: 50.0s\n",
            "  Epoch 16 @ step 100000: Train Loss: 1.046000, Train Accuracy: 0.636500\n",
            "  Epoch 16 @ step 101000: Train Loss: 1.026316, Train Accuracy: 0.643500\n",
            "  Epoch 16 @ step 102000: Train Loss: 1.026020, Train Accuracy: 0.640250\n",
            "  Epoch 16 @ step 103000: Train Loss: 1.017644, Train Accuracy: 0.639875\n",
            "  Epoch 16 @ step 104000: Train Loss: 1.023453, Train Accuracy: 0.643375\n",
            "  Epoch 16 @ step 105000: Train Loss: 1.016315, Train Accuracy: 0.648875\n",
            "  Epoch 16 @ step 106000: Train Loss: 0.999694, Train Accuracy: 0.647250\n",
            "Epoch 16 Test Loss: 0.894151, Test Accuracy: 0.691900, time: 48.1s\n",
            "  Epoch 17 @ step 107000: Train Loss: 1.011629, Train Accuracy: 0.646625\n",
            "  Epoch 17 @ step 108000: Train Loss: 1.010443, Train Accuracy: 0.644500\n",
            "  Epoch 17 @ step 109000: Train Loss: 1.033984, Train Accuracy: 0.634125\n",
            "  Epoch 17 @ step 110000: Train Loss: 1.036875, Train Accuracy: 0.635875\n",
            "  Epoch 17 @ step 111000: Train Loss: 1.019644, Train Accuracy: 0.643750\n",
            "  Epoch 17 @ step 112000: Train Loss: 1.046759, Train Accuracy: 0.641500\n",
            "Epoch 17 Test Loss: 0.910841, Test Accuracy: 0.681900, time: 49.2s\n",
            "  Epoch 18 @ step 113000: Train Loss: 1.022251, Train Accuracy: 0.644625\n",
            "  Epoch 18 @ step 114000: Train Loss: 0.997432, Train Accuracy: 0.650375\n",
            "  Epoch 18 @ step 115000: Train Loss: 1.030155, Train Accuracy: 0.644125\n",
            "  Epoch 18 @ step 116000: Train Loss: 1.036944, Train Accuracy: 0.640750\n",
            "  Epoch 18 @ step 117000: Train Loss: 1.035397, Train Accuracy: 0.644000\n",
            "  Epoch 18 @ step 118000: Train Loss: 1.031756, Train Accuracy: 0.638375\n",
            "Epoch 18 Test Loss: 0.913797, Test Accuracy: 0.684500, time: 49.7s\n",
            "  Epoch 19 @ step 119000: Train Loss: 1.016997, Train Accuracy: 0.642125\n",
            "  Epoch 19 @ step 120000: Train Loss: 1.046071, Train Accuracy: 0.635500\n",
            "  Epoch 19 @ step 121000: Train Loss: 1.026351, Train Accuracy: 0.642750\n",
            "  Epoch 19 @ step 122000: Train Loss: 1.031936, Train Accuracy: 0.637375\n",
            "  Epoch 19 @ step 123000: Train Loss: 1.026218, Train Accuracy: 0.640000\n",
            "  Epoch 19 @ step 124000: Train Loss: 1.033082, Train Accuracy: 0.637625\n",
            "Epoch 19 Test Loss: 0.905190, Test Accuracy: 0.682300, time: 50.6s\n",
            "  Epoch 20 @ step 125000: Train Loss: 1.027872, Train Accuracy: 0.642875\n",
            "  Epoch 20 @ step 126000: Train Loss: 1.022263, Train Accuracy: 0.641625\n",
            "  Epoch 20 @ step 127000: Train Loss: 1.017598, Train Accuracy: 0.648875\n",
            "  Epoch 20 @ step 128000: Train Loss: 1.001041, Train Accuracy: 0.656500\n",
            "  Epoch 20 @ step 129000: Train Loss: 1.041968, Train Accuracy: 0.636875\n",
            "  Epoch 20 @ step 130000: Train Loss: 1.036731, Train Accuracy: 0.639250\n",
            "  Epoch 20 @ step 131000: Train Loss: 1.037457, Train Accuracy: 0.641250\n",
            "Epoch 20 Test Loss: 0.910326, Test Accuracy: 0.687700, time: 49.6s\n",
            "  Epoch 21 @ step 132000: Train Loss: 1.006209, Train Accuracy: 0.651875\n",
            "  Epoch 21 @ step 133000: Train Loss: 1.010823, Train Accuracy: 0.648250\n",
            "  Epoch 21 @ step 134000: Train Loss: 1.031388, Train Accuracy: 0.638250\n",
            "  Epoch 21 @ step 135000: Train Loss: 1.027911, Train Accuracy: 0.637375\n",
            "  Epoch 21 @ step 136000: Train Loss: 1.033389, Train Accuracy: 0.637250\n",
            "  Epoch 21 @ step 137000: Train Loss: 1.022509, Train Accuracy: 0.642250\n",
            "Epoch 21 Test Loss: 0.893526, Test Accuracy: 0.690000, time: 49.6s\n",
            "  Epoch 22 @ step 138000: Train Loss: 1.013501, Train Accuracy: 0.644875\n",
            "  Epoch 22 @ step 139000: Train Loss: 1.023020, Train Accuracy: 0.641875\n",
            "  Epoch 22 @ step 140000: Train Loss: 1.015848, Train Accuracy: 0.648375\n",
            "  Epoch 22 @ step 141000: Train Loss: 1.018453, Train Accuracy: 0.649125\n",
            "  Epoch 22 @ step 142000: Train Loss: 1.025920, Train Accuracy: 0.643750\n",
            "  Epoch 22 @ step 143000: Train Loss: 1.032790, Train Accuracy: 0.643250\n",
            "Epoch 22 Test Loss: 0.916264, Test Accuracy: 0.679200, time: 48.4s\n",
            "  Epoch 23 @ step 144000: Train Loss: 1.033752, Train Accuracy: 0.639750\n",
            "  Epoch 23 @ step 145000: Train Loss: 1.015349, Train Accuracy: 0.643750\n",
            "  Epoch 23 @ step 146000: Train Loss: 1.018566, Train Accuracy: 0.645500\n",
            "  Epoch 23 @ step 147000: Train Loss: 1.012202, Train Accuracy: 0.649750\n",
            "  Epoch 23 @ step 148000: Train Loss: 1.029136, Train Accuracy: 0.641625\n",
            "  Epoch 23 @ step 149000: Train Loss: 1.033159, Train Accuracy: 0.638125\n",
            "Epoch 23 Test Loss: 0.874617, Test Accuracy: 0.694700, time: 49.9s\n",
            "  Epoch 24 @ step 150000: Train Loss: 1.036253, Train Accuracy: 0.641250\n",
            "  Epoch 24 @ step 151000: Train Loss: 0.995575, Train Accuracy: 0.651000\n",
            "  Epoch 24 @ step 152000: Train Loss: 1.012852, Train Accuracy: 0.640375\n",
            "  Epoch 24 @ step 153000: Train Loss: 1.026536, Train Accuracy: 0.638625\n",
            "  Epoch 24 @ step 154000: Train Loss: 1.014753, Train Accuracy: 0.645000\n",
            "  Epoch 24 @ step 155000: Train Loss: 1.024310, Train Accuracy: 0.643000\n",
            "  Epoch 24 @ step 156000: Train Loss: 1.018382, Train Accuracy: 0.648625\n",
            "Epoch 24 Test Loss: 0.953464, Test Accuracy: 0.668200, time: 51.8s\n",
            "  Epoch 25 @ step 157000: Train Loss: 1.004853, Train Accuracy: 0.647500\n",
            "  Epoch 25 @ step 158000: Train Loss: 1.017823, Train Accuracy: 0.645250\n",
            "  Epoch 25 @ step 159000: Train Loss: 1.010286, Train Accuracy: 0.648875\n",
            "  Epoch 25 @ step 160000: Train Loss: 1.060239, Train Accuracy: 0.630625\n",
            "  Epoch 25 @ step 161000: Train Loss: 1.029987, Train Accuracy: 0.637625\n",
            "  Epoch 25 @ step 162000: Train Loss: 1.025307, Train Accuracy: 0.645500\n",
            "Epoch 25 Test Loss: 0.903058, Test Accuracy: 0.687400, time: 49.7s\n",
            "  Epoch 26 @ step 163000: Train Loss: 1.004952, Train Accuracy: 0.650750\n",
            "  Epoch 26 @ step 164000: Train Loss: 1.020342, Train Accuracy: 0.646625\n",
            "  Epoch 26 @ step 165000: Train Loss: 1.003039, Train Accuracy: 0.653625\n",
            "  Epoch 26 @ step 166000: Train Loss: 1.011887, Train Accuracy: 0.645250\n",
            "  Epoch 26 @ step 167000: Train Loss: 1.025340, Train Accuracy: 0.635750\n",
            "  Epoch 26 @ step 168000: Train Loss: 1.014089, Train Accuracy: 0.647250\n",
            "Epoch 26 Test Loss: 0.884645, Test Accuracy: 0.690600, time: 50.4s\n",
            "  Epoch 27 @ step 169000: Train Loss: 1.014135, Train Accuracy: 0.641875\n",
            "  Epoch 27 @ step 170000: Train Loss: 1.013212, Train Accuracy: 0.641500\n",
            "  Epoch 27 @ step 171000: Train Loss: 1.016920, Train Accuracy: 0.651000\n",
            "  Epoch 27 @ step 172000: Train Loss: 1.012953, Train Accuracy: 0.644625\n",
            "  Epoch 27 @ step 173000: Train Loss: 1.027830, Train Accuracy: 0.637750\n",
            "  Epoch 27 @ step 174000: Train Loss: 0.990073, Train Accuracy: 0.652125\n",
            "Epoch 27 Test Loss: 0.933772, Test Accuracy: 0.675500, time: 49.9s\n",
            "  Epoch 28 @ step 175000: Train Loss: 1.036734, Train Accuracy: 0.637750\n",
            "  Epoch 28 @ step 176000: Train Loss: 1.000433, Train Accuracy: 0.658875\n",
            "  Epoch 28 @ step 177000: Train Loss: 1.020055, Train Accuracy: 0.645750\n",
            "  Epoch 28 @ step 178000: Train Loss: 1.004662, Train Accuracy: 0.644875\n",
            "  Epoch 28 @ step 179000: Train Loss: 1.019901, Train Accuracy: 0.646000\n",
            "  Epoch 28 @ step 180000: Train Loss: 1.018111, Train Accuracy: 0.646750\n",
            "  Epoch 28 @ step 181000: Train Loss: 1.035232, Train Accuracy: 0.641125\n",
            "Epoch 28 Test Loss: 0.927393, Test Accuracy: 0.675500, time: 49.4s\n",
            "  Epoch 29 @ step 182000: Train Loss: 1.011022, Train Accuracy: 0.645625\n",
            "  Epoch 29 @ step 183000: Train Loss: 1.024121, Train Accuracy: 0.642750\n",
            "  Epoch 29 @ step 184000: Train Loss: 1.025352, Train Accuracy: 0.642750\n",
            "  Epoch 29 @ step 185000: Train Loss: 1.016838, Train Accuracy: 0.651500\n",
            "  Epoch 29 @ step 186000: Train Loss: 1.036751, Train Accuracy: 0.637500\n",
            "  Epoch 29 @ step 187000: Train Loss: 1.002361, Train Accuracy: 0.650000\n",
            "Epoch 29 Test Loss: 0.886414, Test Accuracy: 0.687000, time: 49.4s\n",
            "Final Test Loss: 0.886414, Test Accuracy: 0.687000, Total time: 1492.1s\n"
          ],
          "name": "stdout"
        }
      ]
    },
    {
      "metadata": {
        "id": "ltVs2q8S7XDf",
        "colab_type": "code",
        "colab": {}
      },
      "cell_type": "code",
      "source": [
        ""
      ],
      "execution_count": 0,
      "outputs": []
    },
    {
      "metadata": {
        "colab_type": "text",
        "id": "xbx5REUdc-Xs"
      },
      "cell_type": "markdown",
      "source": [
        "**What changes did you make to improve your model?**"
      ]
    },
    {
      "metadata": {
        "colab_type": "code",
        "id": "uItu0w4fZTuG",
        "outputId": "a325ef72-bf00-4098-8d2d-c9024c751412",
        "colab": {
          "base_uri": "https://localhost:8080/",
          "height": 574
        }
      },
      "cell_type": "code",
      "source": [
        "plot_graphs(\"AwesomeModel\", metrics)"
      ],
      "execution_count": 0,
      "outputs": [
        {
          "output_type": "display_data",
          "data": {
            "image/png": "[encoded data removed]",
            "text/plain": [
              "<Figure size 432x288 with 1 Axes>"
            ]
          },
          "metadata": {
            "tags": []
          }
        },
        {
          "output_type": "display_data",
          "data": {
            "image/png": "[encoded data removed]",
            "text/plain": [
              "<Figure size 432x288 with 1 Axes>"
            ]
          },
          "metadata": {
            "tags": []
          }
        }
      ]
    },
    {
      "metadata": {
        "id": "r8nk4ukgvu6N",
        "colab_type": "code",
        "outputId": "b0512663-3888-4647-92e0-a60a91e432c4",
        "colab": {
          "base_uri": "https://localhost:8080/",
          "height": 50
        }
      },
      "cell_type": "code",
      "source": [
        "transformations_train = transforms.Compose(\n",
        "    [\n",
        "     transforms.RandomHorizontalFlip(),\n",
        "     transforms.RandomRotation(30),\n",
        "     transforms.ToTensor(),\n",
        "     transforms.Normalize((0.5, 0.5, 0.5), (0.5, 0.5, 0.5)),\n",
        "        \n",
        "    ])\n",
        "\n",
        "transformations_test = transforms.Compose(\n",
        "    [\n",
        "     transforms.ToTensor(),\n",
        "     transforms.Normalize((0.5, 0.5, 0.5), (0.5, 0.5, 0.5)),        \n",
        "    ])\n",
        "\n",
        "train_set = datasets.CIFAR10(root='hw10_data/', download=True, transform=transformations_train)\n",
        "test_set = datasets.CIFAR10(root='hw10_data', download=True, train=False, transform=transformations_test)"
      ],
      "execution_count": 0,
      "outputs": [
        {
          "output_type": "stream",
          "text": [
            "Files already downloaded and verified\n",
            "Files already downloaded and verified\n"
          ],
          "name": "stdout"
        }
      ]
    },
    {
      "metadata": {
        "id": "myeGIkzuvbHD",
        "colab_type": "code",
        "colab": {}
      },
      "cell_type": "code",
      "source": [
        "batch_size = 8\n",
        "train_loader = torch.utils.data.DataLoader(train_set, batch_size, shuffle=True, num_workers=2)\n",
        "test_loader = torch.utils.data.DataLoader(test_set, batch_size, shuffle=True, num_workers=2)\n",
        "\n",
        "input_shape = np.array(train_set[0][0]).shape\n",
        "input_dim = input_shape[1]*input_shape[2]*input_shape[0]"
      ],
      "execution_count": 0,
      "outputs": []
    },
    {
      "metadata": {
        "id": "UH7mqVNhvhip",
        "colab_type": "code",
        "outputId": "f6b7f714-8c95-412f-c01f-e8b423bad647",
        "colab": {
          "base_uri": "https://localhost:8080/",
          "height": 2824
        }
      },
      "cell_type": "code",
      "source": [
        "model1 = AwesomeModel().to(device)\n",
        "\n",
        "loss = nn.CrossEntropyLoss()\n",
        "optimizer = optim.Adam(model1.parameters(), lr=0.001, weight_decay=0.01)\n",
        "\n",
        "metrics = train(model1, train_loader, test_loader, loss, optimizer, 30)"
      ],
      "execution_count": 0,
      "outputs": [
        {
          "output_type": "stream",
          "text": [
            "  Epoch 0 @ step 0: Train Loss: 0.004184, Train Accuracy: 0.000125\n",
            "  Epoch 0 @ step 1000: Train Loss: 1.937070, Train Accuracy: 0.312875\n",
            "  Epoch 0 @ step 2000: Train Loss: 1.668631, Train Accuracy: 0.385875\n",
            "  Epoch 0 @ step 3000: Train Loss: 1.596709, Train Accuracy: 0.414125\n",
            "  Epoch 0 @ step 4000: Train Loss: 1.548290, Train Accuracy: 0.438625\n",
            "  Epoch 0 @ step 5000: Train Loss: 1.484127, Train Accuracy: 0.465750\n",
            "  Epoch 0 @ step 6000: Train Loss: 1.475407, Train Accuracy: 0.464000\n",
            "Epoch 0 Test Loss: 1.267425, Test Accuracy: 0.542300, time: 50.8s\n",
            "  Epoch 1 @ step 7000: Train Loss: 1.443285, Train Accuracy: 0.478750\n",
            "  Epoch 1 @ step 8000: Train Loss: 1.413278, Train Accuracy: 0.489500\n",
            "  Epoch 1 @ step 9000: Train Loss: 1.414972, Train Accuracy: 0.490375\n",
            "  Epoch 1 @ step 10000: Train Loss: 1.389968, Train Accuracy: 0.495875\n",
            "  Epoch 1 @ step 11000: Train Loss: 1.389538, Train Accuracy: 0.497125\n",
            "  Epoch 1 @ step 12000: Train Loss: 1.375796, Train Accuracy: 0.507125\n",
            "Epoch 1 Test Loss: 1.204410, Test Accuracy: 0.566700, time: 51.3s\n",
            "  Epoch 2 @ step 13000: Train Loss: 1.384125, Train Accuracy: 0.508750\n",
            "  Epoch 2 @ step 14000: Train Loss: 1.364036, Train Accuracy: 0.508500\n",
            "  Epoch 2 @ step 15000: Train Loss: 1.374524, Train Accuracy: 0.506875\n",
            "  Epoch 2 @ step 16000: Train Loss: 1.366620, Train Accuracy: 0.506875\n",
            "  Epoch 2 @ step 17000: Train Loss: 1.345210, Train Accuracy: 0.509250\n",
            "  Epoch 2 @ step 18000: Train Loss: 1.345599, Train Accuracy: 0.523125\n",
            "Epoch 2 Test Loss: 1.122697, Test Accuracy: 0.599800, time: 50.5s\n",
            "  Epoch 3 @ step 19000: Train Loss: 1.343233, Train Accuracy: 0.520500\n",
            "  Epoch 3 @ step 20000: Train Loss: 1.330595, Train Accuracy: 0.521875\n",
            "  Epoch 3 @ step 21000: Train Loss: 1.346456, Train Accuracy: 0.515750\n",
            "  Epoch 3 @ step 22000: Train Loss: 1.320784, Train Accuracy: 0.523750\n",
            "  Epoch 3 @ step 23000: Train Loss: 1.331112, Train Accuracy: 0.522500\n",
            "  Epoch 3 @ step 24000: Train Loss: 1.322072, Train Accuracy: 0.529500\n",
            "Epoch 3 Test Loss: 1.119069, Test Accuracy: 0.602600, time: 51.2s\n",
            "  Epoch 4 @ step 25000: Train Loss: 1.302395, Train Accuracy: 0.534625\n",
            "  Epoch 4 @ step 26000: Train Loss: 1.323441, Train Accuracy: 0.526375\n",
            "  Epoch 4 @ step 27000: Train Loss: 1.309074, Train Accuracy: 0.529125\n",
            "  Epoch 4 @ step 28000: Train Loss: 1.287045, Train Accuracy: 0.548000\n",
            "  Epoch 4 @ step 29000: Train Loss: 1.303518, Train Accuracy: 0.529625\n",
            "  Epoch 4 @ step 30000: Train Loss: 1.313754, Train Accuracy: 0.534875\n",
            "  Epoch 4 @ step 31000: Train Loss: 1.310425, Train Accuracy: 0.533375\n",
            "Epoch 4 Test Loss: 1.203193, Test Accuracy: 0.577300, time: 52.8s\n",
            "  Epoch 5 @ step 32000: Train Loss: 1.312833, Train Accuracy: 0.529125\n",
            "  Epoch 5 @ step 33000: Train Loss: 1.286543, Train Accuracy: 0.538875\n",
            "  Epoch 5 @ step 34000: Train Loss: 1.303457, Train Accuracy: 0.531875\n",
            "  Epoch 5 @ step 35000: Train Loss: 1.312345, Train Accuracy: 0.539625\n",
            "  Epoch 5 @ step 36000: Train Loss: 1.305535, Train Accuracy: 0.539875\n",
            "  Epoch 5 @ step 37000: Train Loss: 1.296209, Train Accuracy: 0.535250\n",
            "Epoch 5 Test Loss: 1.068146, Test Accuracy: 0.624800, time: 51.0s\n",
            "  Epoch 6 @ step 38000: Train Loss: 1.289488, Train Accuracy: 0.537875\n",
            "  Epoch 6 @ step 39000: Train Loss: 1.290952, Train Accuracy: 0.537250\n",
            "  Epoch 6 @ step 40000: Train Loss: 1.269728, Train Accuracy: 0.545875\n",
            "  Epoch 6 @ step 41000: Train Loss: 1.301164, Train Accuracy: 0.544125\n",
            "  Epoch 6 @ step 42000: Train Loss: 1.276227, Train Accuracy: 0.545125\n",
            "  Epoch 6 @ step 43000: Train Loss: 1.299624, Train Accuracy: 0.534125\n",
            "Epoch 6 Test Loss: 1.073807, Test Accuracy: 0.617500, time: 49.9s\n",
            "  Epoch 7 @ step 44000: Train Loss: 1.303353, Train Accuracy: 0.534750\n",
            "  Epoch 7 @ step 45000: Train Loss: 1.284285, Train Accuracy: 0.539125\n",
            "  Epoch 7 @ step 46000: Train Loss: 1.267887, Train Accuracy: 0.547375\n",
            "  Epoch 7 @ step 47000: Train Loss: 1.268412, Train Accuracy: 0.546625\n",
            "  Epoch 7 @ step 48000: Train Loss: 1.289836, Train Accuracy: 0.543375\n",
            "  Epoch 7 @ step 49000: Train Loss: 1.321228, Train Accuracy: 0.528250\n",
            "Epoch 7 Test Loss: 1.081449, Test Accuracy: 0.610100, time: 51.1s\n",
            "  Epoch 8 @ step 50000: Train Loss: 1.284758, Train Accuracy: 0.538625\n",
            "  Epoch 8 @ step 51000: Train Loss: 1.291556, Train Accuracy: 0.538750\n",
            "  Epoch 8 @ step 52000: Train Loss: 1.292556, Train Accuracy: 0.537125\n",
            "  Epoch 8 @ step 53000: Train Loss: 1.269866, Train Accuracy: 0.546375\n",
            "  Epoch 8 @ step 54000: Train Loss: 1.284539, Train Accuracy: 0.548000\n",
            "  Epoch 8 @ step 55000: Train Loss: 1.286847, Train Accuracy: 0.534375\n",
            "  Epoch 8 @ step 56000: Train Loss: 1.269954, Train Accuracy: 0.549250\n",
            "Epoch 8 Test Loss: 1.038581, Test Accuracy: 0.636600, time: 51.3s\n",
            "  Epoch 9 @ step 57000: Train Loss: 1.288269, Train Accuracy: 0.544750\n",
            "  Epoch 9 @ step 58000: Train Loss: 1.282407, Train Accuracy: 0.542750\n",
            "  Epoch 9 @ step 59000: Train Loss: 1.284612, Train Accuracy: 0.538500\n",
            "  Epoch 9 @ step 60000: Train Loss: 1.276950, Train Accuracy: 0.539500\n",
            "  Epoch 9 @ step 61000: Train Loss: 1.295741, Train Accuracy: 0.533375\n",
            "  Epoch 9 @ step 62000: Train Loss: 1.279369, Train Accuracy: 0.548625\n",
            "Epoch 9 Test Loss: 1.181189, Test Accuracy: 0.569600, time: 52.8s\n",
            "  Epoch 10 @ step 63000: Train Loss: 1.292900, Train Accuracy: 0.538750\n",
            "  Epoch 10 @ step 64000: Train Loss: 1.283745, Train Accuracy: 0.543625\n",
            "  Epoch 10 @ step 65000: Train Loss: 1.292946, Train Accuracy: 0.531375\n",
            "  Epoch 10 @ step 66000: Train Loss: 1.285593, Train Accuracy: 0.543625\n",
            "  Epoch 10 @ step 67000: Train Loss: 1.274163, Train Accuracy: 0.547375\n",
            "  Epoch 10 @ step 68000: Train Loss: 1.281749, Train Accuracy: 0.540750\n",
            "Epoch 10 Test Loss: 1.073906, Test Accuracy: 0.621600, time: 51.2s\n",
            "  Epoch 11 @ step 69000: Train Loss: 1.273043, Train Accuracy: 0.551500\n",
            "  Epoch 11 @ step 70000: Train Loss: 1.266867, Train Accuracy: 0.549000\n",
            "  Epoch 11 @ step 71000: Train Loss: 1.297063, Train Accuracy: 0.542000\n",
            "  Epoch 11 @ step 72000: Train Loss: 1.283303, Train Accuracy: 0.539750\n",
            "  Epoch 11 @ step 73000: Train Loss: 1.284911, Train Accuracy: 0.547000\n",
            "  Epoch 11 @ step 74000: Train Loss: 1.251712, Train Accuracy: 0.558000\n",
            "Epoch 11 Test Loss: 1.078381, Test Accuracy: 0.617400, time: 51.4s\n",
            "  Epoch 12 @ step 75000: Train Loss: 1.283382, Train Accuracy: 0.547000\n",
            "  Epoch 12 @ step 76000: Train Loss: 1.274981, Train Accuracy: 0.547375\n",
            "  Epoch 12 @ step 77000: Train Loss: 1.279920, Train Accuracy: 0.541750\n",
            "  Epoch 12 @ step 78000: Train Loss: 1.269279, Train Accuracy: 0.555125\n",
            "  Epoch 12 @ step 79000: Train Loss: 1.285179, Train Accuracy: 0.541625\n",
            "  Epoch 12 @ step 80000: Train Loss: 1.286086, Train Accuracy: 0.539875\n",
            "  Epoch 12 @ step 81000: Train Loss: 1.271726, Train Accuracy: 0.545375\n",
            "Epoch 12 Test Loss: 1.038170, Test Accuracy: 0.632100, time: 51.5s\n",
            "  Epoch 13 @ step 82000: Train Loss: 1.270305, Train Accuracy: 0.540625\n",
            "  Epoch 13 @ step 83000: Train Loss: 1.298038, Train Accuracy: 0.539250\n",
            "  Epoch 13 @ step 84000: Train Loss: 1.285845, Train Accuracy: 0.541000\n",
            "  Epoch 13 @ step 85000: Train Loss: 1.290251, Train Accuracy: 0.543375\n",
            "  Epoch 13 @ step 86000: Train Loss: 1.286634, Train Accuracy: 0.543000\n",
            "  Epoch 13 @ step 87000: Train Loss: 1.268946, Train Accuracy: 0.549125\n",
            "Epoch 13 Test Loss: 1.063008, Test Accuracy: 0.628400, time: 50.5s\n",
            "  Epoch 14 @ step 88000: Train Loss: 1.266026, Train Accuracy: 0.550375\n",
            "  Epoch 14 @ step 89000: Train Loss: 1.278223, Train Accuracy: 0.541875\n",
            "  Epoch 14 @ step 90000: Train Loss: 1.279435, Train Accuracy: 0.544875\n",
            "  Epoch 14 @ step 91000: Train Loss: 1.283667, Train Accuracy: 0.542625\n",
            "  Epoch 14 @ step 92000: Train Loss: 1.273294, Train Accuracy: 0.543375\n",
            "  Epoch 14 @ step 93000: Train Loss: 1.270349, Train Accuracy: 0.545625\n",
            "Epoch 14 Test Loss: 1.083840, Test Accuracy: 0.612700, time: 51.7s\n",
            "  Epoch 15 @ step 94000: Train Loss: 1.267482, Train Accuracy: 0.553875\n",
            "  Epoch 15 @ step 95000: Train Loss: 1.278720, Train Accuracy: 0.539625\n",
            "  Epoch 15 @ step 96000: Train Loss: 1.282850, Train Accuracy: 0.538500\n",
            "  Epoch 15 @ step 97000: Train Loss: 1.291516, Train Accuracy: 0.537750\n",
            "  Epoch 15 @ step 98000: Train Loss: 1.260962, Train Accuracy: 0.550625\n",
            "  Epoch 15 @ step 99000: Train Loss: 1.277458, Train Accuracy: 0.550750\n",
            "Epoch 15 Test Loss: 1.059012, Test Accuracy: 0.625900, time: 52.4s\n",
            "  Epoch 16 @ step 100000: Train Loss: 1.276002, Train Accuracy: 0.548000\n",
            "  Epoch 16 @ step 101000: Train Loss: 1.263870, Train Accuracy: 0.552750\n",
            "  Epoch 16 @ step 102000: Train Loss: 1.284244, Train Accuracy: 0.544375\n",
            "  Epoch 16 @ step 103000: Train Loss: 1.289347, Train Accuracy: 0.543250\n",
            "  Epoch 16 @ step 104000: Train Loss: 1.252529, Train Accuracy: 0.556125\n",
            "  Epoch 16 @ step 105000: Train Loss: 1.266700, Train Accuracy: 0.548375\n",
            "  Epoch 16 @ step 106000: Train Loss: 1.286135, Train Accuracy: 0.538000\n",
            "Epoch 16 Test Loss: 1.023289, Test Accuracy: 0.643900, time: 51.0s\n",
            "  Epoch 17 @ step 107000: Train Loss: 1.254537, Train Accuracy: 0.545250\n",
            "  Epoch 17 @ step 108000: Train Loss: 1.272597, Train Accuracy: 0.552375\n",
            "  Epoch 17 @ step 109000: Train Loss: 1.234876, Train Accuracy: 0.559875\n",
            "  Epoch 17 @ step 110000: Train Loss: 1.268773, Train Accuracy: 0.553125\n",
            "  Epoch 17 @ step 111000: Train Loss: 1.275504, Train Accuracy: 0.544250\n",
            "  Epoch 17 @ step 112000: Train Loss: 1.261498, Train Accuracy: 0.556500\n",
            "Epoch 17 Test Loss: 1.145521, Test Accuracy: 0.587100, time: 50.7s\n",
            "  Epoch 18 @ step 113000: Train Loss: 1.295871, Train Accuracy: 0.537250\n",
            "  Epoch 18 @ step 114000: Train Loss: 1.260243, Train Accuracy: 0.555875\n",
            "  Epoch 18 @ step 115000: Train Loss: 1.275512, Train Accuracy: 0.543875\n",
            "  Epoch 18 @ step 116000: Train Loss: 1.260810, Train Accuracy: 0.556000\n",
            "  Epoch 18 @ step 117000: Train Loss: 1.277246, Train Accuracy: 0.542000\n",
            "  Epoch 18 @ step 118000: Train Loss: 1.286797, Train Accuracy: 0.537375\n",
            "Epoch 18 Test Loss: 1.041004, Test Accuracy: 0.644900, time: 51.4s\n",
            "  Epoch 19 @ step 119000: Train Loss: 1.265505, Train Accuracy: 0.550125\n",
            "  Epoch 19 @ step 120000: Train Loss: 1.265320, Train Accuracy: 0.559250\n",
            "  Epoch 19 @ step 121000: Train Loss: 1.257313, Train Accuracy: 0.554125\n",
            "  Epoch 19 @ step 122000: Train Loss: 1.256129, Train Accuracy: 0.553750\n",
            "  Epoch 19 @ step 123000: Train Loss: 1.282959, Train Accuracy: 0.533875\n",
            "  Epoch 19 @ step 124000: Train Loss: 1.300920, Train Accuracy: 0.539625\n",
            "Epoch 19 Test Loss: 1.049004, Test Accuracy: 0.631700, time: 51.1s\n",
            "  Epoch 20 @ step 125000: Train Loss: 1.289707, Train Accuracy: 0.544000\n",
            "  Epoch 20 @ step 126000: Train Loss: 1.276232, Train Accuracy: 0.549500\n",
            "  Epoch 20 @ step 127000: Train Loss: 1.266638, Train Accuracy: 0.549500\n"
          ],
          "name": "stdout"
        },
        {
          "output_type": "error",
          "ename": "KeyboardInterrupt",
          "evalue": "ignored",
          "traceback": [
            "\u001b[0;31m---------------------------------------------------------------------------\u001b[0m",
            "\u001b[0;31mKeyboardInterrupt\u001b[0m                         Traceback (most recent call last)",
            "\u001b[0;32m<ipython-input-17-62caa64db7b3>\u001b[0m in \u001b[0;36m<module>\u001b[0;34m()\u001b[0m\n\u001b[1;32m      4\u001b[0m \u001b[0moptimizer\u001b[0m \u001b[0;34m=\u001b[0m \u001b[0moptim\u001b[0m\u001b[0;34m.\u001b[0m\u001b[0mAdam\u001b[0m\u001b[0;34m(\u001b[0m\u001b[0mmodel1\u001b[0m\u001b[0;34m.\u001b[0m\u001b[0mparameters\u001b[0m\u001b[0;34m(\u001b[0m\u001b[0;34m)\u001b[0m\u001b[0;34m,\u001b[0m \u001b[0mlr\u001b[0m\u001b[0;34m=\u001b[0m\u001b[0;36m0.001\u001b[0m\u001b[0;34m,\u001b[0m \u001b[0mweight_decay\u001b[0m\u001b[0;34m=\u001b[0m\u001b[0;36m0.01\u001b[0m\u001b[0;34m)\u001b[0m\u001b[0;34m\u001b[0m\u001b[0;34m\u001b[0m\u001b[0m\n\u001b[1;32m      5\u001b[0m \u001b[0;34m\u001b[0m\u001b[0m\n\u001b[0;32m----> 6\u001b[0;31m \u001b[0mmetrics\u001b[0m \u001b[0;34m=\u001b[0m \u001b[0mtrain\u001b[0m\u001b[0;34m(\u001b[0m\u001b[0mmodel1\u001b[0m\u001b[0;34m,\u001b[0m \u001b[0mtrain_loader\u001b[0m\u001b[0;34m,\u001b[0m \u001b[0mtest_loader\u001b[0m\u001b[0;34m,\u001b[0m \u001b[0mloss\u001b[0m\u001b[0;34m,\u001b[0m \u001b[0moptimizer\u001b[0m\u001b[0;34m,\u001b[0m \u001b[0;36m30\u001b[0m\u001b[0;34m)\u001b[0m\u001b[0;34m\u001b[0m\u001b[0;34m\u001b[0m\u001b[0m\n\u001b[0m",
            "\u001b[0;32m<ipython-input-4-45dd83a634d8>\u001b[0m in \u001b[0;36mtrain\u001b[0;34m(model, train_loader, test_loader, loss_func, opt, num_epochs)\u001b[0m\n\u001b[1;32m     29\u001b[0m       \u001b[0mloss\u001b[0m \u001b[0;34m=\u001b[0m \u001b[0mloss_func\u001b[0m\u001b[0;34m(\u001b[0m\u001b[0mpreds\u001b[0m\u001b[0;34m,\u001b[0m \u001b[0mlabels\u001b[0m\u001b[0;34m)\u001b[0m\u001b[0;34m\u001b[0m\u001b[0;34m\u001b[0m\u001b[0m\n\u001b[1;32m     30\u001b[0m       \u001b[0mloss\u001b[0m\u001b[0;34m.\u001b[0m\u001b[0mbackward\u001b[0m\u001b[0;34m(\u001b[0m\u001b[0;34m)\u001b[0m\u001b[0;34m\u001b[0m\u001b[0;34m\u001b[0m\u001b[0m\n\u001b[0;32m---> 31\u001b[0;31m       \u001b[0mopt\u001b[0m\u001b[0;34m.\u001b[0m\u001b[0mstep\u001b[0m\u001b[0;34m(\u001b[0m\u001b[0;34m)\u001b[0m\u001b[0;34m\u001b[0m\u001b[0;34m\u001b[0m\u001b[0m\n\u001b[0m\u001b[1;32m     32\u001b[0m \u001b[0;34m\u001b[0m\u001b[0m\n\u001b[1;32m     33\u001b[0m       \u001b[0mtraining_loss\u001b[0m \u001b[0;34m+=\u001b[0m \u001b[0mloss\u001b[0m\u001b[0;34m.\u001b[0m\u001b[0mitem\u001b[0m\u001b[0;34m(\u001b[0m\u001b[0;34m)\u001b[0m\u001b[0;34m\u001b[0m\u001b[0;34m\u001b[0m\u001b[0m\n",
            "\u001b[0;32m/usr/local/lib/python3.6/dist-packages/torch/optim/adam.py\u001b[0m in \u001b[0;36mstep\u001b[0;34m(self, closure)\u001b[0m\n\u001b[1;32m     92\u001b[0m                 \u001b[0;31m# Decay the first and second moment running average coefficient\u001b[0m\u001b[0;34m\u001b[0m\u001b[0;34m\u001b[0m\u001b[0;34m\u001b[0m\u001b[0m\n\u001b[1;32m     93\u001b[0m                 \u001b[0mexp_avg\u001b[0m\u001b[0;34m.\u001b[0m\u001b[0mmul_\u001b[0m\u001b[0;34m(\u001b[0m\u001b[0mbeta1\u001b[0m\u001b[0;34m)\u001b[0m\u001b[0;34m.\u001b[0m\u001b[0madd_\u001b[0m\u001b[0;34m(\u001b[0m\u001b[0;36m1\u001b[0m \u001b[0;34m-\u001b[0m \u001b[0mbeta1\u001b[0m\u001b[0;34m,\u001b[0m \u001b[0mgrad\u001b[0m\u001b[0;34m)\u001b[0m\u001b[0;34m\u001b[0m\u001b[0;34m\u001b[0m\u001b[0m\n\u001b[0;32m---> 94\u001b[0;31m                 \u001b[0mexp_avg_sq\u001b[0m\u001b[0;34m.\u001b[0m\u001b[0mmul_\u001b[0m\u001b[0;34m(\u001b[0m\u001b[0mbeta2\u001b[0m\u001b[0;34m)\u001b[0m\u001b[0;34m.\u001b[0m\u001b[0maddcmul_\u001b[0m\u001b[0;34m(\u001b[0m\u001b[0;36m1\u001b[0m \u001b[0;34m-\u001b[0m \u001b[0mbeta2\u001b[0m\u001b[0;34m,\u001b[0m \u001b[0mgrad\u001b[0m\u001b[0;34m,\u001b[0m \u001b[0mgrad\u001b[0m\u001b[0;34m)\u001b[0m\u001b[0;34m\u001b[0m\u001b[0;34m\u001b[0m\u001b[0m\n\u001b[0m\u001b[1;32m     95\u001b[0m                 \u001b[0;32mif\u001b[0m \u001b[0mamsgrad\u001b[0m\u001b[0;34m:\u001b[0m\u001b[0;34m\u001b[0m\u001b[0;34m\u001b[0m\u001b[0m\n\u001b[1;32m     96\u001b[0m                     \u001b[0;31m# Maintains the maximum of all 2nd moment running avg. till now\u001b[0m\u001b[0;34m\u001b[0m\u001b[0;34m\u001b[0m\u001b[0;34m\u001b[0m\u001b[0m\n",
            "\u001b[0;31mKeyboardInterrupt\u001b[0m: "
          ]
        }
      ]
    },
    {
      "metadata": {
        "id": "2i2PwAZDwqjH",
        "colab_type": "code",
        "colab": {}
      },
      "cell_type": "code",
      "source": [
        "plot_graphs(\"AwesomeModel with data augmentation, horizontal flip+rotate 30\", metrics)"
      ],
      "execution_count": 0,
      "outputs": []
    },
    {
      "metadata": {
        "id": "aSf6cZ1a-mYa",
        "colab_type": "code",
        "outputId": "e815810f-1ebc-407f-bb72-0860228c90d7",
        "colab": {
          "base_uri": "https://localhost:8080/",
          "height": 1232
        }
      },
      "cell_type": "code",
      "source": [
        "class AwesomeModel1(nn.Module):\n",
        "  def __init__(self):\n",
        "    super(AwesomeModel1, self).__init__()\n",
        "    self.net = nn.Sequential(\n",
        "      nn.Conv2d(3, 16, kernel_size=3, stride=1, padding=1),\n",
        "      #ouptput 16 channels of 32*32 images\n",
        "      nn.ReLU(), \n",
        "      nn.MaxPool2d(kernel_size=2,stride=2),\n",
        "      #output 16 channels of 16*16 images\n",
        "      nn.Conv2d(16, 16, kernel_size=3, stride=1, padding=1),\n",
        "      # 16 channels, 16*16 images\n",
        "      nn.ReLU(), \n",
        "      Flatten(),\n",
        "      nn.Linear(16*16*16, 256),\n",
        "      nn.ReLU(),\n",
        "      nn.Linear(256,64),\n",
        "      nn.ReLU(),\n",
        "      nn.Linear(64, 10))\n",
        "    \n",
        "  def forward(self, x):\n",
        "    return self.net(x)\n",
        "\n",
        "model = AwesomeModel1().to(device)\n",
        "\n",
        "loss = nn.CrossEntropyLoss()\n",
        "optimizer = optim.Adam(model.parameters(), lr=0.001, weight_decay=0.01)\n",
        "\n",
        "metrics = train(model, train_loader, test_loader, loss, optimizer, training_epochs)\n",
        "\n",
        "plot_graphs(\"AwesomeModel1\", metrics)"
      ],
      "execution_count": 0,
      "outputs": [
        {
          "output_type": "stream",
          "text": [
            "  Epoch 0 @ step 0: Train Loss: 0.004330, Train Accuracy: 0.000250\n",
            "  Epoch 0 @ step 1000: Train Loss: 1.909201, Train Accuracy: 0.285375\n",
            "  Epoch 0 @ step 2000: Train Loss: 1.648317, Train Accuracy: 0.392625\n",
            "  Epoch 0 @ step 3000: Train Loss: 1.542355, Train Accuracy: 0.424750\n",
            "  Epoch 0 @ step 4000: Train Loss: 1.493362, Train Accuracy: 0.452500\n",
            "  Epoch 0 @ step 5000: Train Loss: 1.448814, Train Accuracy: 0.465875\n",
            "  Epoch 0 @ step 6000: Train Loss: 1.434711, Train Accuracy: 0.476875\n",
            "Epoch 0 Test Loss: 1.455934, Test Accuracy: 0.450600, time: 29.6s\n",
            "  Epoch 1 @ step 7000: Train Loss: 1.410319, Train Accuracy: 0.477500\n",
            "  Epoch 1 @ step 8000: Train Loss: 1.388192, Train Accuracy: 0.499375\n",
            "  Epoch 1 @ step 9000: Train Loss: 1.385419, Train Accuracy: 0.492875\n",
            "  Epoch 1 @ step 10000: Train Loss: 1.361736, Train Accuracy: 0.505875\n",
            "  Epoch 1 @ step 11000: Train Loss: 1.361768, Train Accuracy: 0.509500\n",
            "  Epoch 1 @ step 12000: Train Loss: 1.334904, Train Accuracy: 0.515125\n",
            "Epoch 1 Test Loss: 1.276683, Test Accuracy: 0.528700, time: 30.0s\n",
            "  Epoch 2 @ step 13000: Train Loss: 1.329407, Train Accuracy: 0.517375\n",
            "  Epoch 2 @ step 14000: Train Loss: 1.343591, Train Accuracy: 0.510750\n",
            "  Epoch 2 @ step 15000: Train Loss: 1.314056, Train Accuracy: 0.519750\n",
            "  Epoch 2 @ step 16000: Train Loss: 1.318520, Train Accuracy: 0.518000\n",
            "  Epoch 2 @ step 17000: Train Loss: 1.311800, Train Accuracy: 0.517375\n",
            "  Epoch 2 @ step 18000: Train Loss: 1.301660, Train Accuracy: 0.525250\n",
            "Epoch 2 Test Loss: 1.241236, Test Accuracy: 0.554500, time: 31.4s\n",
            "  Epoch 3 @ step 19000: Train Loss: 1.283639, Train Accuracy: 0.532500\n",
            "  Epoch 3 @ step 20000: Train Loss: 1.291313, Train Accuracy: 0.524500\n",
            "  Epoch 3 @ step 21000: Train Loss: 1.308174, Train Accuracy: 0.523000\n",
            "  Epoch 3 @ step 22000: Train Loss: 1.274707, Train Accuracy: 0.533250\n",
            "  Epoch 3 @ step 23000: Train Loss: 1.261553, Train Accuracy: 0.541500\n",
            "  Epoch 3 @ step 24000: Train Loss: 1.277605, Train Accuracy: 0.535125\n",
            "Epoch 3 Test Loss: 1.294486, Test Accuracy: 0.540100, time: 29.3s\n",
            "  Epoch 4 @ step 25000: Train Loss: 1.286669, Train Accuracy: 0.526500\n",
            "  Epoch 4 @ step 26000: Train Loss: 1.273768, Train Accuracy: 0.537375\n",
            "  Epoch 4 @ step 27000: Train Loss: 1.268750, Train Accuracy: 0.545000\n",
            "  Epoch 4 @ step 28000: Train Loss: 1.266399, Train Accuracy: 0.540625\n",
            "  Epoch 4 @ step 29000: Train Loss: 1.270238, Train Accuracy: 0.544000\n",
            "  Epoch 4 @ step 30000: Train Loss: 1.248519, Train Accuracy: 0.539875\n",
            "  Epoch 4 @ step 31000: Train Loss: 1.267817, Train Accuracy: 0.530250\n",
            "Epoch 4 Test Loss: 1.227851, Test Accuracy: 0.556900, time: 29.7s\n",
            "Final Test Loss: 1.227851, Test Accuracy: 0.556900, Total time: 150.1s\n"
          ],
          "name": "stdout"
        },
        {
          "output_type": "display_data",
          "data": {
            "image/png": "[encoded data removed]",
            "text/plain": [
              "<Figure size 432x288 with 1 Axes>"
            ]
          },
          "metadata": {
            "tags": []
          }
        },
        {
          "output_type": "display_data",
          "data": {
            "image/png": "[encoded data removed]",
            "text/plain": [
              "<Figure size 432x288 with 1 Axes>"
            ]
          },
          "metadata": {
            "tags": []
          }
        }
      ]
    },
    {
      "metadata": {
        "id": "C4biyg_k_nKc",
        "colab_type": "code",
        "outputId": "3f4e5989-6b9b-4354-a573-e333d5e0da47",
        "colab": {
          "base_uri": "https://localhost:8080/",
          "height": 3696
        }
      },
      "cell_type": "code",
      "source": [
        "class AwesomeModel(nn.Module):\n",
        "  def __init__(self):\n",
        "    super(AwesomeModel, self).__init__()\n",
        "    self.net = nn.Sequential(\n",
        "      nn.Conv2d(3, 32, kernel_size=3, stride=1, padding=1),\n",
        "      #ouptput 32 channels of 32*32 images\n",
        "      nn.ReLU(),\n",
        "      nn.BatchNorm2d(32),\n",
        "      nn.Conv2d(32,32,kernel_size=3,stride=1,padding=1),\n",
        "      nn.ReLU(),\n",
        "      nn.BatchNorm2d(32),\n",
        "      #nn.MaxPool2d(kernel_size=2,stride=2),\n",
        "      #output 32 channels of 16*16 images\n",
        "      #nn.Dropout(0.2),\n",
        "\n",
        "\n",
        "      nn.Conv2d(32,64,kernel_size=3,stride=1, padding=1),\n",
        "      nn.ReLU(),\n",
        "      nn.BatchNorm2d(64),\n",
        "      nn.Conv2d(64,64,kernel_size=3,stride=1,padding=1),\n",
        "      nn.ReLU(),\n",
        "      nn.BatchNorm2d(64),\n",
        "      nn.MaxPool2d(kernel_size=2,stride=2),\n",
        "      nn.Dropout(0.2),\n",
        "\n",
        "      nn.Conv2d(64,128,kernel_size=3,stride=1, padding=1),\n",
        "      nn.ReLU(),\n",
        "      nn.BatchNorm2d(128),\n",
        "      nn.Conv2d(128,128,kernel_size=3,stride=1,padding=1),\n",
        "      nn.ReLU(),\n",
        "      nn.BatchNorm2d(128),\n",
        "      #nn.MaxPool2d(kernel_size=2,stride=2),\n",
        "      #nn.Dropout(0.2),\n",
        "      \n",
        "\n",
        "      nn.Conv2d(128,256,kernel_size=3, stride=1,padding=1),\n",
        "      nn.ReLU(),\n",
        "      nn.BatchNorm2d(256),\n",
        "      nn.Conv2d(256,256,kernel_size=3,stride=1,padding=1),\n",
        "      nn.ReLU(),\n",
        "      nn.BatchNorm2d(256),\n",
        "      nn.MaxPool2d(kernel_size=2,stride=2),\n",
        "      nn.Dropout(0.4),\n",
        "\n",
        "\n",
        "      Flatten(),\n",
        "      nn.Linear(256*8*8,512),\n",
        "      nn.Linear(512,10))\n",
        "    \n",
        "  def forward(self, x):\n",
        "    return self.net(x)\n",
        "\n",
        "model = AwesomeModel().to(device)\n",
        "\n",
        "loss = nn.CrossEntropyLoss()\n",
        "optimizer = optim.Adam(model.parameters(), lr=0.001, weight_decay=0.01)\n",
        "\n",
        "metrics = train(model, train_loader, test_loader, loss, optimizer, 30)"
      ],
      "execution_count": 0,
      "outputs": [
        {
          "output_type": "stream",
          "text": [
            "  Epoch 0 @ step 0: Train Loss: 0.004514, Train Accuracy: 0.000000\n",
            "  Epoch 0 @ step 1000: Train Loss: 2.623128, Train Accuracy: 0.240250\n",
            "  Epoch 0 @ step 2000: Train Loss: 1.879776, Train Accuracy: 0.302000\n",
            "  Epoch 0 @ step 3000: Train Loss: 1.754862, Train Accuracy: 0.346875\n",
            "  Epoch 0 @ step 4000: Train Loss: 1.657710, Train Accuracy: 0.379875\n",
            "  Epoch 0 @ step 5000: Train Loss: 1.614513, Train Accuracy: 0.404375\n",
            "  Epoch 0 @ step 6000: Train Loss: 1.586809, Train Accuracy: 0.412000\n",
            "Epoch 0 Test Loss: 1.381474, Test Accuracy: 0.487800, time: 81.9s\n",
            "  Epoch 1 @ step 7000: Train Loss: 1.532970, Train Accuracy: 0.443125\n",
            "  Epoch 1 @ step 8000: Train Loss: 1.513459, Train Accuracy: 0.438625\n",
            "  Epoch 1 @ step 9000: Train Loss: 1.475315, Train Accuracy: 0.463250\n",
            "  Epoch 1 @ step 10000: Train Loss: 1.456074, Train Accuracy: 0.464125\n",
            "  Epoch 1 @ step 11000: Train Loss: 1.448324, Train Accuracy: 0.476250\n",
            "  Epoch 1 @ step 12000: Train Loss: 1.426818, Train Accuracy: 0.474750\n",
            "Epoch 1 Test Loss: 1.289465, Test Accuracy: 0.533800, time: 80.9s\n",
            "  Epoch 2 @ step 13000: Train Loss: 1.413863, Train Accuracy: 0.480500\n",
            "  Epoch 2 @ step 14000: Train Loss: 1.410480, Train Accuracy: 0.489000\n",
            "  Epoch 2 @ step 15000: Train Loss: 1.418724, Train Accuracy: 0.488500\n",
            "  Epoch 2 @ step 16000: Train Loss: 1.395468, Train Accuracy: 0.499375\n",
            "  Epoch 2 @ step 17000: Train Loss: 1.382928, Train Accuracy: 0.490375\n",
            "  Epoch 2 @ step 18000: Train Loss: 1.379597, Train Accuracy: 0.500875\n",
            "Epoch 2 Test Loss: 1.223942, Test Accuracy: 0.556300, time: 79.9s\n",
            "  Epoch 3 @ step 19000: Train Loss: 1.368549, Train Accuracy: 0.505125\n",
            "  Epoch 3 @ step 20000: Train Loss: 1.373585, Train Accuracy: 0.505375\n",
            "  Epoch 3 @ step 21000: Train Loss: 1.375846, Train Accuracy: 0.502125\n",
            "  Epoch 3 @ step 22000: Train Loss: 1.378965, Train Accuracy: 0.504250\n",
            "  Epoch 3 @ step 23000: Train Loss: 1.350728, Train Accuracy: 0.512750\n",
            "  Epoch 3 @ step 24000: Train Loss: 1.347370, Train Accuracy: 0.515875\n",
            "Epoch 3 Test Loss: 1.146889, Test Accuracy: 0.584400, time: 81.7s\n",
            "  Epoch 4 @ step 25000: Train Loss: 1.347176, Train Accuracy: 0.516125\n",
            "  Epoch 4 @ step 26000: Train Loss: 1.342100, Train Accuracy: 0.517875\n",
            "  Epoch 4 @ step 27000: Train Loss: 1.334827, Train Accuracy: 0.518375\n",
            "  Epoch 4 @ step 28000: Train Loss: 1.328357, Train Accuracy: 0.520750\n",
            "  Epoch 4 @ step 29000: Train Loss: 1.337764, Train Accuracy: 0.506125\n",
            "  Epoch 4 @ step 30000: Train Loss: 1.347132, Train Accuracy: 0.514250\n",
            "  Epoch 4 @ step 31000: Train Loss: 1.319896, Train Accuracy: 0.530125\n",
            "Epoch 4 Test Loss: 1.130484, Test Accuracy: 0.598400, time: 80.1s\n",
            "  Epoch 5 @ step 32000: Train Loss: 1.341897, Train Accuracy: 0.518750\n",
            "  Epoch 5 @ step 33000: Train Loss: 1.317136, Train Accuracy: 0.524875\n",
            "  Epoch 5 @ step 34000: Train Loss: 1.347202, Train Accuracy: 0.516875\n",
            "  Epoch 5 @ step 35000: Train Loss: 1.326685, Train Accuracy: 0.525625\n",
            "  Epoch 5 @ step 36000: Train Loss: 1.337003, Train Accuracy: 0.522125\n",
            "  Epoch 5 @ step 37000: Train Loss: 1.323796, Train Accuracy: 0.521750\n",
            "Epoch 5 Test Loss: 1.224790, Test Accuracy: 0.562400, time: 80.2s\n",
            "  Epoch 6 @ step 38000: Train Loss: 1.305658, Train Accuracy: 0.528250\n",
            "  Epoch 6 @ step 39000: Train Loss: 1.310908, Train Accuracy: 0.528625\n",
            "  Epoch 6 @ step 40000: Train Loss: 1.321225, Train Accuracy: 0.529625\n",
            "  Epoch 6 @ step 41000: Train Loss: 1.321959, Train Accuracy: 0.533875\n",
            "  Epoch 6 @ step 42000: Train Loss: 1.333559, Train Accuracy: 0.520000\n",
            "  Epoch 6 @ step 43000: Train Loss: 1.325634, Train Accuracy: 0.527250\n",
            "Epoch 6 Test Loss: 1.227001, Test Accuracy: 0.550800, time: 80.5s\n",
            "  Epoch 7 @ step 44000: Train Loss: 1.306953, Train Accuracy: 0.530375\n",
            "  Epoch 7 @ step 45000: Train Loss: 1.314485, Train Accuracy: 0.528500\n",
            "  Epoch 7 @ step 46000: Train Loss: 1.290938, Train Accuracy: 0.533750\n",
            "  Epoch 7 @ step 47000: Train Loss: 1.304290, Train Accuracy: 0.531375\n",
            "  Epoch 7 @ step 48000: Train Loss: 1.328272, Train Accuracy: 0.515875\n",
            "  Epoch 7 @ step 49000: Train Loss: 1.316823, Train Accuracy: 0.528000\n",
            "Epoch 7 Test Loss: 1.149359, Test Accuracy: 0.591800, time: 80.6s\n",
            "  Epoch 8 @ step 50000: Train Loss: 1.324803, Train Accuracy: 0.527875\n",
            "  Epoch 8 @ step 51000: Train Loss: 1.291838, Train Accuracy: 0.545250\n",
            "  Epoch 8 @ step 52000: Train Loss: 1.325461, Train Accuracy: 0.527000\n",
            "  Epoch 8 @ step 53000: Train Loss: 1.299181, Train Accuracy: 0.537250\n",
            "  Epoch 8 @ step 54000: Train Loss: 1.306243, Train Accuracy: 0.527625\n",
            "  Epoch 8 @ step 55000: Train Loss: 1.315268, Train Accuracy: 0.526625\n",
            "  Epoch 8 @ step 56000: Train Loss: 1.295696, Train Accuracy: 0.533125\n",
            "Epoch 8 Test Loss: 1.128392, Test Accuracy: 0.594000, time: 80.0s\n",
            "  Epoch 9 @ step 57000: Train Loss: 1.337707, Train Accuracy: 0.525000\n",
            "  Epoch 9 @ step 58000: Train Loss: 1.317686, Train Accuracy: 0.529875\n",
            "  Epoch 9 @ step 59000: Train Loss: 1.292248, Train Accuracy: 0.536500\n",
            "  Epoch 9 @ step 60000: Train Loss: 1.276486, Train Accuracy: 0.542500\n",
            "  Epoch 9 @ step 61000: Train Loss: 1.298542, Train Accuracy: 0.529875\n",
            "  Epoch 9 @ step 62000: Train Loss: 1.332547, Train Accuracy: 0.511750\n",
            "Epoch 9 Test Loss: 1.154960, Test Accuracy: 0.588700, time: 80.2s\n",
            "  Epoch 10 @ step 63000: Train Loss: 1.282529, Train Accuracy: 0.547250\n",
            "  Epoch 10 @ step 64000: Train Loss: 1.307328, Train Accuracy: 0.531875\n",
            "  Epoch 10 @ step 65000: Train Loss: 1.270834, Train Accuracy: 0.537000\n",
            "  Epoch 10 @ step 66000: Train Loss: 1.315581, Train Accuracy: 0.521375\n",
            "  Epoch 10 @ step 67000: Train Loss: 1.297736, Train Accuracy: 0.533875\n",
            "  Epoch 10 @ step 68000: Train Loss: 1.311430, Train Accuracy: 0.528250\n",
            "Epoch 10 Test Loss: 1.159092, Test Accuracy: 0.593000, time: 81.0s\n",
            "  Epoch 11 @ step 69000: Train Loss: 1.287694, Train Accuracy: 0.539625\n",
            "  Epoch 11 @ step 70000: Train Loss: 1.276894, Train Accuracy: 0.547375\n",
            "  Epoch 11 @ step 71000: Train Loss: 1.305099, Train Accuracy: 0.527000\n",
            "  Epoch 11 @ step 72000: Train Loss: 1.308135, Train Accuracy: 0.528125\n",
            "  Epoch 11 @ step 73000: Train Loss: 1.302544, Train Accuracy: 0.534000\n",
            "  Epoch 11 @ step 74000: Train Loss: 1.296911, Train Accuracy: 0.537250\n",
            "Epoch 11 Test Loss: 1.212276, Test Accuracy: 0.573700, time: 81.2s\n",
            "  Epoch 12 @ step 75000: Train Loss: 1.319047, Train Accuracy: 0.526125\n",
            "  Epoch 12 @ step 76000: Train Loss: 1.285844, Train Accuracy: 0.537750\n",
            "  Epoch 12 @ step 77000: Train Loss: 1.303279, Train Accuracy: 0.534625\n",
            "  Epoch 12 @ step 78000: Train Loss: 1.309920, Train Accuracy: 0.536125\n",
            "  Epoch 12 @ step 79000: Train Loss: 1.308005, Train Accuracy: 0.535375\n",
            "  Epoch 12 @ step 80000: Train Loss: 1.288209, Train Accuracy: 0.537750\n",
            "  Epoch 12 @ step 81000: Train Loss: 1.283072, Train Accuracy: 0.538250\n",
            "Epoch 12 Test Loss: 1.174343, Test Accuracy: 0.589000, time: 80.9s\n",
            "  Epoch 13 @ step 82000: Train Loss: 1.299058, Train Accuracy: 0.540500\n",
            "  Epoch 13 @ step 83000: Train Loss: 1.283599, Train Accuracy: 0.546000\n",
            "  Epoch 13 @ step 84000: Train Loss: 1.298052, Train Accuracy: 0.535125\n",
            "  Epoch 13 @ step 85000: Train Loss: 1.299564, Train Accuracy: 0.531125\n",
            "  Epoch 13 @ step 86000: Train Loss: 1.287624, Train Accuracy: 0.535875\n",
            "  Epoch 13 @ step 87000: Train Loss: 1.294070, Train Accuracy: 0.532000\n",
            "Epoch 13 Test Loss: 1.118977, Test Accuracy: 0.607700, time: 80.0s\n",
            "  Epoch 14 @ step 88000: Train Loss: 1.309020, Train Accuracy: 0.533250\n",
            "  Epoch 14 @ step 89000: Train Loss: 1.273326, Train Accuracy: 0.538750\n",
            "  Epoch 14 @ step 90000: Train Loss: 1.297265, Train Accuracy: 0.531000\n",
            "  Epoch 14 @ step 91000: Train Loss: 1.271075, Train Accuracy: 0.548375\n",
            "  Epoch 14 @ step 92000: Train Loss: 1.299984, Train Accuracy: 0.534125\n",
            "  Epoch 14 @ step 93000: Train Loss: 1.312705, Train Accuracy: 0.530750\n",
            "Epoch 14 Test Loss: 1.129119, Test Accuracy: 0.585000, time: 80.7s\n",
            "  Epoch 15 @ step 94000: Train Loss: 1.310030, Train Accuracy: 0.525375\n",
            "  Epoch 15 @ step 95000: Train Loss: 1.305295, Train Accuracy: 0.537000\n",
            "  Epoch 15 @ step 96000: Train Loss: 1.279437, Train Accuracy: 0.540375\n",
            "  Epoch 15 @ step 97000: Train Loss: 1.292401, Train Accuracy: 0.539875\n",
            "  Epoch 15 @ step 98000: Train Loss: 1.302644, Train Accuracy: 0.536500\n",
            "  Epoch 15 @ step 99000: Train Loss: 1.274172, Train Accuracy: 0.548250\n",
            "Epoch 15 Test Loss: 1.105958, Test Accuracy: 0.601400, time: 80.2s\n",
            "  Epoch 16 @ step 100000: Train Loss: 1.299333, Train Accuracy: 0.537250\n",
            "  Epoch 16 @ step 101000: Train Loss: 1.281182, Train Accuracy: 0.535625\n",
            "  Epoch 16 @ step 102000: Train Loss: 1.292332, Train Accuracy: 0.543500\n",
            "  Epoch 16 @ step 103000: Train Loss: 1.292948, Train Accuracy: 0.527250\n",
            "  Epoch 16 @ step 104000: Train Loss: 1.276984, Train Accuracy: 0.549125\n",
            "  Epoch 16 @ step 105000: Train Loss: 1.270605, Train Accuracy: 0.554250\n",
            "  Epoch 16 @ step 106000: Train Loss: 1.292242, Train Accuracy: 0.540750\n",
            "Epoch 16 Test Loss: 1.107933, Test Accuracy: 0.602800, time: 79.9s\n",
            "  Epoch 17 @ step 107000: Train Loss: 1.314145, Train Accuracy: 0.530625\n",
            "  Epoch 17 @ step 108000: Train Loss: 1.275398, Train Accuracy: 0.547250\n",
            "  Epoch 17 @ step 109000: Train Loss: 1.290374, Train Accuracy: 0.533000\n",
            "  Epoch 17 @ step 110000: Train Loss: 1.265488, Train Accuracy: 0.545125\n",
            "  Epoch 17 @ step 111000: Train Loss: 1.284910, Train Accuracy: 0.541625\n",
            "  Epoch 17 @ step 112000: Train Loss: 1.292411, Train Accuracy: 0.532500\n",
            "Epoch 17 Test Loss: 1.086365, Test Accuracy: 0.615400, time: 80.3s\n",
            "  Epoch 18 @ step 113000: Train Loss: 1.276652, Train Accuracy: 0.543000\n",
            "  Epoch 18 @ step 114000: Train Loss: 1.292710, Train Accuracy: 0.540875\n",
            "  Epoch 18 @ step 115000: Train Loss: 1.289029, Train Accuracy: 0.537500\n",
            "  Epoch 18 @ step 116000: Train Loss: 1.291032, Train Accuracy: 0.543375\n",
            "  Epoch 18 @ step 117000: Train Loss: 1.290569, Train Accuracy: 0.539250\n",
            "  Epoch 18 @ step 118000: Train Loss: 1.296308, Train Accuracy: 0.538250\n",
            "Epoch 18 Test Loss: 1.306927, Test Accuracy: 0.552100, time: 80.6s\n",
            "  Epoch 19 @ step 119000: Train Loss: 1.280975, Train Accuracy: 0.545375\n",
            "  Epoch 19 @ step 120000: Train Loss: 1.266859, Train Accuracy: 0.544750\n",
            "  Epoch 19 @ step 121000: Train Loss: 1.304035, Train Accuracy: 0.533625\n",
            "  Epoch 19 @ step 122000: Train Loss: 1.286810, Train Accuracy: 0.540625\n",
            "  Epoch 19 @ step 123000: Train Loss: 1.279089, Train Accuracy: 0.548250\n",
            "  Epoch 19 @ step 124000: Train Loss: 1.295097, Train Accuracy: 0.534875\n",
            "Epoch 19 Test Loss: 1.134377, Test Accuracy: 0.600000, time: 80.0s\n",
            "  Epoch 20 @ step 125000: Train Loss: 1.287173, Train Accuracy: 0.533625\n",
            "  Epoch 20 @ step 126000: Train Loss: 1.291837, Train Accuracy: 0.533000\n",
            "  Epoch 20 @ step 127000: Train Loss: 1.297738, Train Accuracy: 0.530500\n",
            "  Epoch 20 @ step 128000: Train Loss: 1.292720, Train Accuracy: 0.535375\n",
            "  Epoch 20 @ step 129000: Train Loss: 1.274472, Train Accuracy: 0.540000\n",
            "  Epoch 20 @ step 130000: Train Loss: 1.304707, Train Accuracy: 0.532875\n",
            "  Epoch 20 @ step 131000: Train Loss: 1.281307, Train Accuracy: 0.540875\n",
            "Epoch 20 Test Loss: 1.117925, Test Accuracy: 0.604100, time: 80.4s\n",
            "  Epoch 21 @ step 132000: Train Loss: 1.292652, Train Accuracy: 0.543250\n",
            "  Epoch 21 @ step 133000: Train Loss: 1.304147, Train Accuracy: 0.528375\n",
            "  Epoch 21 @ step 134000: Train Loss: 1.270438, Train Accuracy: 0.544875\n",
            "  Epoch 21 @ step 135000: Train Loss: 1.303323, Train Accuracy: 0.533625\n",
            "  Epoch 21 @ step 136000: Train Loss: 1.309901, Train Accuracy: 0.536000\n",
            "  Epoch 21 @ step 137000: Train Loss: 1.284481, Train Accuracy: 0.536625\n",
            "Epoch 21 Test Loss: 1.139370, Test Accuracy: 0.585000, time: 80.9s\n",
            "  Epoch 22 @ step 138000: Train Loss: 1.292549, Train Accuracy: 0.535750\n",
            "  Epoch 22 @ step 139000: Train Loss: 1.291746, Train Accuracy: 0.541875\n",
            "  Epoch 22 @ step 140000: Train Loss: 1.277418, Train Accuracy: 0.540000\n",
            "  Epoch 22 @ step 141000: Train Loss: 1.293024, Train Accuracy: 0.539375\n",
            "  Epoch 22 @ step 142000: Train Loss: 1.284581, Train Accuracy: 0.543875\n",
            "  Epoch 22 @ step 143000: Train Loss: 1.283434, Train Accuracy: 0.538250\n",
            "Epoch 22 Test Loss: 1.106181, Test Accuracy: 0.604400, time: 80.8s\n",
            "  Epoch 23 @ step 144000: Train Loss: 1.290470, Train Accuracy: 0.541500\n",
            "  Epoch 23 @ step 145000: Train Loss: 1.294147, Train Accuracy: 0.534625\n",
            "  Epoch 23 @ step 146000: Train Loss: 1.290417, Train Accuracy: 0.536375\n",
            "  Epoch 23 @ step 147000: Train Loss: 1.295359, Train Accuracy: 0.540500\n",
            "  Epoch 23 @ step 148000: Train Loss: 1.276927, Train Accuracy: 0.549125\n",
            "  Epoch 23 @ step 149000: Train Loss: 1.278707, Train Accuracy: 0.546000\n",
            "Epoch 23 Test Loss: 1.117472, Test Accuracy: 0.600600, time: 80.4s\n",
            "  Epoch 24 @ step 150000: Train Loss: 1.275852, Train Accuracy: 0.539500\n",
            "  Epoch 24 @ step 151000: Train Loss: 1.275204, Train Accuracy: 0.536875\n",
            "  Epoch 24 @ step 152000: Train Loss: 1.273884, Train Accuracy: 0.547750\n",
            "  Epoch 24 @ step 153000: Train Loss: 1.279472, Train Accuracy: 0.542125\n",
            "  Epoch 24 @ step 154000: Train Loss: 1.299678, Train Accuracy: 0.533750\n",
            "  Epoch 24 @ step 155000: Train Loss: 1.267302, Train Accuracy: 0.546125\n",
            "  Epoch 24 @ step 156000: Train Loss: 1.291905, Train Accuracy: 0.541625\n",
            "Epoch 24 Test Loss: 1.082690, Test Accuracy: 0.619900, time: 80.5s\n",
            "  Epoch 25 @ step 157000: Train Loss: 1.272899, Train Accuracy: 0.542125\n",
            "  Epoch 25 @ step 158000: Train Loss: 1.266934, Train Accuracy: 0.549125\n",
            "  Epoch 25 @ step 159000: Train Loss: 1.295800, Train Accuracy: 0.529625\n",
            "  Epoch 25 @ step 160000: Train Loss: 1.275246, Train Accuracy: 0.540625\n",
            "  Epoch 25 @ step 161000: Train Loss: 1.268787, Train Accuracy: 0.551625\n",
            "  Epoch 25 @ step 162000: Train Loss: 1.286675, Train Accuracy: 0.541625\n",
            "Epoch 25 Test Loss: 1.135920, Test Accuracy: 0.596700, time: 80.9s\n",
            "  Epoch 26 @ step 163000: Train Loss: 1.271646, Train Accuracy: 0.542000\n",
            "  Epoch 26 @ step 164000: Train Loss: 1.282094, Train Accuracy: 0.540500\n",
            "  Epoch 26 @ step 165000: Train Loss: 1.283424, Train Accuracy: 0.540125\n",
            "  Epoch 26 @ step 166000: Train Loss: 1.305359, Train Accuracy: 0.529000\n",
            "  Epoch 26 @ step 167000: Train Loss: 1.276121, Train Accuracy: 0.550000\n",
            "  Epoch 26 @ step 168000: Train Loss: 1.269663, Train Accuracy: 0.548125\n",
            "Epoch 26 Test Loss: 1.128087, Test Accuracy: 0.601800, time: 80.2s\n",
            "  Epoch 27 @ step 169000: Train Loss: 1.299044, Train Accuracy: 0.540000\n",
            "  Epoch 27 @ step 170000: Train Loss: 1.251587, Train Accuracy: 0.549625\n",
            "  Epoch 27 @ step 171000: Train Loss: 1.286911, Train Accuracy: 0.540750\n",
            "  Epoch 27 @ step 172000: Train Loss: 1.298717, Train Accuracy: 0.531750\n",
            "  Epoch 27 @ step 173000: Train Loss: 1.293934, Train Accuracy: 0.535500\n",
            "  Epoch 27 @ step 174000: Train Loss: 1.284786, Train Accuracy: 0.543125\n",
            "Epoch 27 Test Loss: 1.101230, Test Accuracy: 0.609200, time: 80.3s\n",
            "  Epoch 28 @ step 175000: Train Loss: 1.297360, Train Accuracy: 0.538125\n",
            "  Epoch 28 @ step 176000: Train Loss: 1.284435, Train Accuracy: 0.544750\n",
            "  Epoch 28 @ step 177000: Train Loss: 1.291948, Train Accuracy: 0.534875\n",
            "  Epoch 28 @ step 178000: Train Loss: 1.294340, Train Accuracy: 0.534500\n",
            "  Epoch 28 @ step 179000: Train Loss: 1.281628, Train Accuracy: 0.540625\n",
            "  Epoch 28 @ step 180000: Train Loss: 1.272034, Train Accuracy: 0.546750\n",
            "  Epoch 28 @ step 181000: Train Loss: 1.290434, Train Accuracy: 0.536375\n",
            "Epoch 28 Test Loss: 1.122708, Test Accuracy: 0.607900, time: 80.8s\n",
            "  Epoch 29 @ step 182000: Train Loss: 1.296378, Train Accuracy: 0.539000\n",
            "  Epoch 29 @ step 183000: Train Loss: 1.284538, Train Accuracy: 0.538625\n",
            "  Epoch 29 @ step 184000: Train Loss: 1.287170, Train Accuracy: 0.532625\n",
            "  Epoch 29 @ step 185000: Train Loss: 1.285456, Train Accuracy: 0.541000\n",
            "  Epoch 29 @ step 186000: Train Loss: 1.280478, Train Accuracy: 0.541875\n",
            "  Epoch 29 @ step 187000: Train Loss: 1.273304, Train Accuracy: 0.545500\n",
            "Epoch 29 Test Loss: 1.173958, Test Accuracy: 0.583600, time: 80.0s\n",
            "Final Test Loss: 1.173958, Test Accuracy: 0.583600, Total time: 2416.0s\n"
          ],
          "name": "stdout"
        }
      ]
    },
    {
      "metadata": {
        "id": "5Dh__OU_-xbL",
        "colab_type": "code",
        "colab": {}
      },
      "cell_type": "code",
      "source": [
        "class Unit(nn.Module):\n",
        "  def __init__(self, in_channels,out_channels):\n",
        "    super(Unit,self).__init__\n",
        "    \n",
        "    self.conv=Conv2d(in_chann)"
      ],
      "execution_count": 0,
      "outputs": []
    },
    {
      "metadata": {
        "colab_type": "text",
        "id": "rWlP2WsodgK0"
      },
      "cell_type": "markdown",
      "source": [
        "After you get a nice model, download the test_file.zip and unzip it to get test_file.pt. In colab, you can explore your files from the left side bar. You can also download the files to your machine from there."
      ]
    },
    {
      "metadata": {
        "colab_type": "code",
        "id": "Z6UZInUCdfQ1",
        "colab": {}
      },
      "cell_type": "code",
      "source": [
        "!wget http://courses.engr.illinois.edu/cs498aml/sp2019/homeworks/test_file.zip\n",
        "!unzip test_file.zip"
      ],
      "execution_count": 0,
      "outputs": []
    },
    {
      "metadata": {
        "colab_type": "text",
        "id": "7g5caFPreMLT"
      },
      "cell_type": "markdown",
      "source": [
        "Then use your model to predict the label of the test images. Fill the remaining code below, where x has two dimensions (batch_size x one image size). Remember to reshpe x accordingly before feeding it into your model. The submission.txt should contain one predicted label (0~9) each line. Submit your submission.txt to the competition in gradscope."
      ]
    },
    {
      "metadata": {
        "colab_type": "code",
        "id": "yNdYAH9XeLlb",
        "colab": {}
      },
      "cell_type": "code",
      "source": [
        "import torch.utils.data as Data\n",
        "\n",
        "test_file = 'test_file.pt'\n",
        "pred_file = 'submission.txt'\n",
        "\n",
        "f_pred = open(pred_file,'w') \n",
        "tensor = torch.load(test_file)\n",
        "torch_dataset = Data.TensorDataset(tensor)  \n",
        "test_loader = torch.utils.data.DataLoader(torch_dataset, batch_size, shuffle=False, num_workers=2)\n",
        "\n",
        "for ele in test_loader:\n",
        "    x = ele[0]\n",
        "    \n",
        "    # Fill your code here\n",
        "    \n",
        "    f_pred.write('\\n')\n",
        "    \n",
        "f_pred.close()"
      ],
      "execution_count": 0,
      "outputs": []
    },
    {
      "metadata": {
        "colab_type": "text",
        "id": "8-L6F0CMqc-A"
      },
      "cell_type": "markdown",
      "source": [
        "\n",
        "# Report\n",
        "\n",
        "## Part 0: Imports and Basic Setup (5 Points)\n",
        "Nothing to report for this part. You will be just scored for finishing the setup.\n",
        "\n",
        "## Part 1: Fully connected neural networks (25 Points)\n",
        "\n",
        "Test (on validation set) accuracy (5 Points):\n",
        "\n",
        "Test loss (5 Points):\n",
        "\n",
        "Training time (5 Points):\n",
        "\n",
        "\n",
        "Plots:\n",
        "\n",
        "- Plot a graph of accuracy on validation set vs training steps (5 Points)\n",
        "\n",
        "- Plot a graph of loss on validation set vs training steps (5 Points)\n",
        "\n",
        "\n",
        "## Part 2: Convolution Network (Basic) (35 Points)\n",
        "\n",
        "Tensor dimensions: A good way to debug your network for size mismatches is to print the dimension of output after every layers:\n",
        "\n",
        "(10 Points)\n",
        "\n",
        "Output dimension after 1st conv layer: \n",
        "\n",
        "Output dimension after 1st max pooling: \n",
        "\n",
        "Output dimension after 2nd conv layer: \n",
        "\n",
        "Output dimension after flatten layer:\n",
        "\n",
        "Output dimension after 1st fully connected layer:\n",
        "\n",
        "Output dimension after 2nd fully connected layer:\n",
        "\n",
        "\n",
        "Test (on validation set) Accuracy (5 Points):\n",
        "\n",
        "Test loss (5 Points):\n",
        "\n",
        "Training time (5 Points):\n",
        "\n",
        "\n",
        "Plots:\n",
        "\n",
        "- Plot a graph of accuracy on validation set vs training steps (5 Points)\n",
        "\n",
        "- Plot a graph of loss on validation set vs training steps (5 Points)\n",
        "\n",
        "\n",
        "\n",
        "## Part 3: Convolution Network (Add one or more  suggested changes) (35 Points)\n",
        "\n",
        "Describe the additional changes implemented, your intuition for as to why it works, you may also describe other approaches you experimented with (10 Points):\n",
        "\n",
        "\n",
        "Test (on validation set) Accuracy (5 Points):\n",
        "\n",
        "Test loss (5 Points):\n",
        "\n",
        "Training time (5 Points):\n",
        "\n",
        "\n",
        "Plots:\n",
        "\n",
        "- Plot a graph of accuracy on validation set vs training steps (5 Points)\n",
        "\n",
        "- Plot a graph of loss on validation set vs training steps (5 Points)\n",
        "\n",
        "10 bonus points will be awarded to top 3 scorers on leaderboard (in case of tie for 3rd position everyone tied for 3rd position will get the bonus)"
      ]
    },
    {
      "metadata": {
        "id": "cMpXJT3p1tjB",
        "colab_type": "code",
        "colab": {}
      },
      "cell_type": "code",
      "source": [
        ""
      ],
      "execution_count": 0,
      "outputs": []
    }
  ]
}